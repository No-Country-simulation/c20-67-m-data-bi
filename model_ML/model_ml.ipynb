{
 "cells": [
  {
   "cell_type": "code",
   "execution_count": 1,
   "metadata": {},
   "outputs": [],
   "source": [
    "import pandas as pd\n",
    "import numpy as np\n",
    "import os \n",
    "from dotenv import load_dotenv\n",
    "import matplotlib.pyplot as plt\n",
    "import seaborn as sns\n",
    "from sklearn.metrics import mean_squared_error, r2_score,accuracy_score\n"
   ]
  },
  {
   "cell_type": "code",
   "execution_count": 2,
   "metadata": {},
   "outputs": [],
   "source": [
    "# Cargar los datasets\n",
    "load_dotenv()\n",
    "\n",
    "ruta_base = os.environ['DATA_DIR']\n",
    "\n",
    "job_postings = pd.read_csv(ruta_base + \"/cleaned_datasets/job_postings.csv\")"
   ]
  },
  {
   "cell_type": "code",
   "execution_count": 3,
   "metadata": {},
   "outputs": [
    {
     "name": "stdout",
     "output_type": "stream",
     "text": [
      "<class 'pandas.core.frame.DataFrame'>\n",
      "RangeIndex: 3317 entries, 0 to 3316\n",
      "Data columns (total 16 columns):\n",
      " #   Column              Non-Null Count  Dtype  \n",
      "---  ------              --------------  -----  \n",
      " 0   id                  3317 non-null   int64  \n",
      " 1   job_title           3317 non-null   object \n",
      " 2   job_info            3317 non-null   object \n",
      " 3   position_type_id    3317 non-null   int64  \n",
      " 4   company             3317 non-null   object \n",
      " 5   city                3317 non-null   object \n",
      " 6   location_id         3317 non-null   int64  \n",
      " 7   seniority_level_id  3317 non-null   int64  \n",
      " 8   work_type           3317 non-null   object \n",
      " 9   industry_type_id    3317 non-null   int64  \n",
      " 10  min_salary          3317 non-null   float64\n",
      " 11  max_salary          3317 non-null   float64\n",
      " 12  avg_salary          3317 non-null   float64\n",
      " 13  company_score       3317 non-null   float64\n",
      " 14  sector              3317 non-null   object \n",
      " 15  skills              3317 non-null   object \n",
      "dtypes: float64(4), int64(5), object(7)\n",
      "memory usage: 414.8+ KB\n"
     ]
    }
   ],
   "source": [
    "job_postings.info()"
   ]
  },
  {
   "cell_type": "code",
   "execution_count": 4,
   "metadata": {},
   "outputs": [
    {
     "data": {
      "text/plain": [
       "work_type\n",
       "Unspecified    1664\n",
       "In-Person      1514\n",
       "Remote          119\n",
       "Hybrid           20\n",
       "Name: count, dtype: int64"
      ]
     },
     "execution_count": 4,
     "metadata": {},
     "output_type": "execute_result"
    }
   ],
   "source": [
    "job_postings.work_type.value_counts()"
   ]
  },
  {
   "cell_type": "code",
   "execution_count": 5,
   "metadata": {},
   "outputs": [
    {
     "data": {
      "text/plain": [
       "seniority_level_id\n",
       "1    1720\n",
       "4    1221\n",
       "3     270\n",
       "2     106\n",
       "Name: count, dtype: int64"
      ]
     },
     "execution_count": 5,
     "metadata": {},
     "output_type": "execute_result"
    }
   ],
   "source": [
    "job_postings.seniority_level_id.value_counts()"
   ]
  },
  {
   "cell_type": "code",
   "execution_count": 6,
   "metadata": {},
   "outputs": [
    {
     "data": {
      "text/plain": [
       "industry_type_id\n",
       "68      1\n",
       "70      1\n",
       "9       1\n",
       "36      1\n",
       "39      1\n",
       "     ... \n",
       "55    103\n",
       "25    140\n",
       "73    322\n",
       "72    859\n",
       "1     939\n",
       "Name: count, Length: 80, dtype: int64"
      ]
     },
     "execution_count": 6,
     "metadata": {},
     "output_type": "execute_result"
    }
   ],
   "source": [
    "job_postings.industry_type_id.value_counts().sort_values(ascending=True)"
   ]
  },
  {
   "cell_type": "code",
   "execution_count": 7,
   "metadata": {},
   "outputs": [
    {
     "data": {
      "text/plain": [
       "sector\n",
       "Accounting & Legal                           1\n",
       "Non-Profit Organizations                     1\n",
       "Restaurants & Food Services                  1\n",
       "Arts, Entertainment & Recreation             1\n",
       "Agriculture & Forestry                       1\n",
       "Hotels & Resorts                             1\n",
       "Mining & Metals                              2\n",
       "Energy, Mining & Public Infrastructure       2\n",
       "Media & Entertainment                        4\n",
       "Arts & Entertainment                         4\n",
       "Construction, Repair & Maintenance           4\n",
       "Educación                                    5\n",
       "Travel & Tourism                             5\n",
       "Media                                        5\n",
       "Real Estate                                  5\n",
       "Transportation & Logistics                   6\n",
       "Telecommunications                           6\n",
       "Consumer Services                            6\n",
       "Non-Profit                                   7\n",
       "Government                                   7\n",
       "Legal                                        7\n",
       "Oil, Gas, Energy & Utilities                 8\n",
       "Retail                                       8\n",
       "Wholesale & Retail                           9\n",
       "Government & Public Administration          10\n",
       "Education                                   14\n",
       "Human Resources                             15\n",
       "Aerospace & Defense                         28\n",
       "Manufacturing                               35\n",
       "Health Care                                 42\n",
       "Insurance                                   45\n",
       "Biotech & Pharmaceuticals                   77\n",
       "Finance                                     82\n",
       "unspecified                                 93\n",
       "Business Services                           99\n",
       "Information Technology                     172\n",
       "Unspecified                               2499\n",
       "Name: count, dtype: int64"
      ]
     },
     "execution_count": 7,
     "metadata": {},
     "output_type": "execute_result"
    }
   ],
   "source": [
    "job_postings.sector.value_counts().sort_values(ascending=True)"
   ]
  },
  {
   "cell_type": "code",
   "execution_count": 8,
   "metadata": {},
   "outputs": [
    {
     "data": {
      "text/plain": [
       "position_type_id\n",
       "7     1348\n",
       "1      727\n",
       "11     448\n",
       "14     298\n",
       "3      244\n",
       "10     142\n",
       "9       24\n",
       "13      20\n",
       "5       19\n",
       "8       15\n",
       "4       12\n",
       "6        9\n",
       "12       6\n",
       "2        5\n",
       "Name: count, dtype: int64"
      ]
     },
     "execution_count": 8,
     "metadata": {},
     "output_type": "execute_result"
    }
   ],
   "source": [
    "job_postings.position_type_id.value_counts()"
   ]
  },
  {
   "cell_type": "code",
   "execution_count": 9,
   "metadata": {},
   "outputs": [
    {
     "data": {
      "text/plain": [
       "<Axes: xlabel='avg_salary', ylabel='Count'>"
      ]
     },
     "execution_count": 9,
     "metadata": {},
     "output_type": "execute_result"
    },
    {
     "data": {
      "image/png": "[encoded data removed]",
      "text/plain": [
       "<Figure size 640x480 with 1 Axes>"
      ]
     },
     "metadata": {},
     "output_type": "display_data"
    }
   ],
   "source": [
    "# Crear el histograma\n",
    "sns.histplot(data=job_postings, x='avg_salary', bins=20, kde=True)"
   ]
  },
  {
   "cell_type": "code",
   "execution_count": 10,
   "metadata": {},
   "outputs": [],
   "source": [
    "df=job_postings[['seniority_level_id','industry_type_id','position_type_id','location_id','avg_salary']].copy()"
   ]
  },
  {
   "cell_type": "code",
   "execution_count": 11,
   "metadata": {},
   "outputs": [],
   "source": [
    "# Definición de los rangos (ejemplo personalizado)\n",
    "rangos = [0, 75000, 100000, 150000, np.inf]  # Ajusta los rangos según tu análisis\n",
    "labels = ['Menor a 75000$', 'Entre 75000$ y 100000$', 'Entre 100000$ y 150000$', 'Mayor a 150000$']\n",
    "\n",
    "# Creación de la nueva columna\n",
    "df['rango_salarial'] = pd.cut(df['avg_salary'], bins=rangos, labels=labels)\n",
    "# Convertir las categorías a números\n",
    "df['rango_salarial_num'] = pd.factorize(df['rango_salarial'])[0]"
   ]
  },
  {
   "cell_type": "code",
   "execution_count": 12,
   "metadata": {},
   "outputs": [
    {
     "data": {
      "text/plain": [
       "rango_salarial\n",
       "Entre 75000$ y 100000$     1368\n",
       "Entre 100000$ y 150000$     932\n",
       "Menor a 75000$              716\n",
       "Mayor a 150000$             301\n",
       "Name: count, dtype: int64"
      ]
     },
     "execution_count": 12,
     "metadata": {},
     "output_type": "execute_result"
    }
   ],
   "source": [
    "df.rango_salarial.value_counts()"
   ]
  },
  {
   "cell_type": "code",
   "execution_count": 13,
   "metadata": {},
   "outputs": [
    {
     "data": {
      "text/plain": [
       "rango_salarial_num\n",
       "0    1368\n",
       "1     932\n",
       "3     716\n",
       "2     301\n",
       "Name: count, dtype: int64"
      ]
     },
     "execution_count": 13,
     "metadata": {},
     "output_type": "execute_result"
    }
   ],
   "source": [
    "df.rango_salarial_num.value_counts()"
   ]
  },
  {
   "cell_type": "code",
   "execution_count": 14,
   "metadata": {},
   "outputs": [
    {
     "data": {
      "image/png": "[encoded data removed]",
      "text/plain": [
       "<Figure size 1000x800 with 2 Axes>"
      ]
     },
     "metadata": {},
     "output_type": "display_data"
    }
   ],
   "source": [
    "corr = df[['seniority_level_id','industry_type_id','position_type_id','location_id','rango_salarial_num']].corr(method='pearson')\n",
    "plt.figure(figsize=(10,8))\n",
    "sns.heatmap(corr, cbar = True,  square = True, annot=True, fmt= '.2f',annot_kws={'size': 15},\n",
    "           xticklabels= df.columns, \n",
    "           yticklabels= df.columns,\n",
    "           cmap= 'coolwarm')\n",
    "plt.show()"
   ]
  },
  {
   "cell_type": "markdown",
   "metadata": {},
   "source": [
    "## Modelo arbol de decision"
   ]
  },
  {
   "cell_type": "code",
   "execution_count": 15,
   "metadata": {},
   "outputs": [],
   "source": [
    "X = df[['seniority_level_id','industry_type_id','position_type_id','location_id']]  \n",
    "y = df.rango_salarial_num # Etiqueta a predecir"
   ]
  },
  {
   "cell_type": "code",
   "execution_count": 16,
   "metadata": {},
   "outputs": [
    {
     "name": "stdout",
     "output_type": "stream",
     "text": [
      "[0 1 2 3]\n",
      "4\n",
      "4\n",
      "[0.06826399 0.22733359 0.16744307 0.53695935]\n",
      "Accuracy en train: 0.6875753920386007\n",
      "Accuracy en test: 0.5228915662650603\n"
     ]
    }
   ],
   "source": [
    "# Importamos el modelo de arbol de decision \n",
    "from sklearn.tree import DecisionTreeClassifier\n",
    "from sklearn.model_selection import train_test_split\n",
    "from sklearn.metrics import confusion_matrix\n",
    "\n",
    "X_Train, X_Test, Y_Train, Y_Test = train_test_split(X, y, test_size = 0.25, random_state=42)\n",
    "\n",
    "# Instanciamos un objeto de la clase DecisionTreeClassifier\n",
    "clf = DecisionTreeClassifier(max_depth = 12, random_state = 42) \n",
    "\n",
    "# Entrenamos el modelo\n",
    "clf.fit(X_Train, Y_Train)\n",
    "\n",
    "# Exploramos algunas de las características del modelo entrenado. \n",
    "print(clf.classes_) #categorias de la variable a predecir \n",
    "print(clf.n_classes_) #numero de categorias de la variable a predecir\n",
    "print(clf.max_features_) #max numero de atributos \n",
    "print(clf.feature_importances_) #nivel de relevancia de cada atributo en el mismo orden que fue asignado al instancia el modelo\n",
    "\n",
    "# Predecimos\n",
    "y_train_pred = clf.predict(X_Train)\n",
    "y_test_pred = clf.predict(X_Test)\n",
    "\n",
    "# Evaluamos\n",
    "print('Accuracy en train:', accuracy_score(Y_Train, y_train_pred))\n",
    "print('Accuracy en test:', accuracy_score(Y_Test, y_test_pred))"
   ]
  },
  {
   "cell_type": "code",
   "execution_count": 17,
   "metadata": {},
   "outputs": [
    {
     "name": "stdout",
     "output_type": "stream",
     "text": [
      "Matriz de Confusión:\n",
      " [[230  74   7  31]\n",
      " [ 58 161  10  14]\n",
      " [ 18  60   5   1]\n",
      " [ 95  25   3  38]]\n"
     ]
    }
   ],
   "source": [
    "cm = confusion_matrix(Y_Test, y_test_pred)\n",
    "print('Matriz de Confusión:\\n', cm)"
   ]
  },
  {
   "cell_type": "markdown",
   "metadata": {},
   "source": [
    "## SVM"
   ]
  },
  {
   "cell_type": "code",
   "execution_count": 18,
   "metadata": {},
   "outputs": [],
   "source": [
    "X = df[['seniority_level_id','industry_type_id','position_type_id','location_id']]  \n",
    "y = df.rango_salarial_num # Etiqueta a predecir"
   ]
  },
  {
   "cell_type": "code",
   "execution_count": 19,
   "metadata": {},
   "outputs": [
    {
     "name": "stdout",
     "output_type": "stream",
     "text": [
      "Accuracy en train: 0.5299439896596295\n",
      "Accuracy en test: 0.5461847389558233\n"
     ]
    }
   ],
   "source": [
    "from sklearn.model_selection import train_test_split\n",
    "from sklearn.svm import SVC\n",
    "from sklearn.metrics import confusion_matrix\n",
    "\n",
    "X_Train, X_Test, Y_Train, Y_Test = train_test_split(X, y, test_size = 0.3, random_state=42)\n",
    "\n",
    "from sklearn.preprocessing import StandardScaler\n",
    "sc_X = StandardScaler()\n",
    "X_Train = sc_X.fit_transform(X_Train)\n",
    "X_Test = sc_X.transform(X_Test)\n",
    "\n",
    "classifier = SVC(kernel='poly', random_state=42) #trabajaremos con regresion polinomica, probar cambiando a linear\n",
    "classifier.fit(X_Train, Y_Train)\n",
    "\n",
    "# Predecimos\n",
    "y_train_pred = classifier.predict(X_Train)\n",
    "y_test_pred = classifier.predict(X_Test)\n",
    "\n",
    "# Evaluamos\n",
    "print('Accuracy en train:', accuracy_score(Y_Train, y_train_pred))\n",
    "print('Accuracy en test:', accuracy_score(Y_Test, y_test_pred))"
   ]
  },
  {
   "cell_type": "code",
   "execution_count": 20,
   "metadata": {},
   "outputs": [
    {
     "name": "stdout",
     "output_type": "stream",
     "text": [
      "Matriz de Confusión:\n",
      " [[317  98   0   0]\n",
      " [ 61 227   0   0]\n",
      " [ 17  79   0   0]\n",
      " [155  42   0   0]]\n"
     ]
    }
   ],
   "source": [
    "cm = confusion_matrix(Y_Test, y_test_pred)\n",
    "print('Matriz de Confusión:\\n', cm)"
   ]
  },
  {
   "cell_type": "markdown",
   "metadata": {},
   "source": [
    "## KGBoost"
   ]
  },
  {
   "cell_type": "code",
   "execution_count": 21,
   "metadata": {},
   "outputs": [],
   "source": [
    "X = df[['seniority_level_id','industry_type_id','position_type_id','location_id']]  \n",
    "y = df.rango_salarial_num # Etiqueta a predecir"
   ]
  },
  {
   "cell_type": "code",
   "execution_count": 22,
   "metadata": {},
   "outputs": [
    {
     "name": "stderr",
     "output_type": "stream",
     "text": [
      "c:\\Users\\daine\\Downloads\\Proyecto\\venv\\lib\\site-packages\\xgboost\\core.py:158: UserWarning: [13:38:10] WARNING: C:\\buildkite-agent\\builds\\buildkite-windows-cpu-autoscaling-group-i-0015a694724fa8361-1\\xgboost\\xgboost-ci-windows\\src\\learner.cc:740: \n",
      "Parameters: { \"use_label_encoder\" } are not used.\n",
      "\n",
      "  warnings.warn(smsg, UserWarning)\n"
     ]
    },
    {
     "name": "stdout",
     "output_type": "stream",
     "text": [
      "Accuracy en train: 0.7203791469194313\n",
      "Accuracy en test: 0.535140562248996\n"
     ]
    }
   ],
   "source": [
    "# Importamos el modelo de arbol de decision \n",
    "from sklearn.tree import DecisionTreeClassifier\n",
    "import xgboost as xgb\n",
    "\n",
    "X_Train, X_Test, Y_Train, Y_Test = train_test_split(X, y, test_size = 0.3, random_state=42,stratify = y)\n",
    "\n",
    "# Instanciamos un objeto de la clase DecisionTreeClassifier\n",
    "clf_xgb = xgb.XGBClassifier(n_estimators=120, seed=42, use_label_encoder= False)\n",
    "                            \n",
    "# Entrenamos\n",
    "clf_xgb.fit(X_Train, Y_Train)\n",
    "\n",
    "# Predecimos\n",
    "y_train_pred = clf_xgb.predict(X_Train)\n",
    "y_test_pred = clf_xgb.predict(X_Test)\n",
    "\n",
    "# Evaluamos\n",
    "print('Accuracy en train:', accuracy_score(Y_Train, y_train_pred))\n",
    "print('Accuracy en test:', accuracy_score(Y_Test, y_test_pred))"
   ]
  },
  {
   "cell_type": "code",
   "execution_count": 23,
   "metadata": {},
   "outputs": [
    {
     "name": "stdout",
     "output_type": "stream",
     "text": [
      "Matriz de Confusión:\n",
      " [[279  75   5  52]\n",
      " [ 58 177  25  20]\n",
      " [ 12  68   7   3]\n",
      " [112  29   4  70]]\n"
     ]
    }
   ],
   "source": [
    "cm = confusion_matrix(Y_Test, y_test_pred)\n",
    "print('Matriz de Confusión:\\n', cm)"
   ]
  },
  {
   "cell_type": "code",
   "execution_count": 24,
   "metadata": {},
   "outputs": [],
   "source": [
    "import scipy as sp\n",
    "from scipy import stats\n",
    "\n",
    "param_dist = {\n",
    "    'n_estimators': sp.stats.randint(50, 300),  # Número de árboles en el modelo\n",
    "    'max_depth': sp.stats.randint(3, 15),  # Profundidad máxima del árbol\n",
    "    'learning_rate': sp.stats.uniform(0.01, 0.3),  # Tasa de aprendizaje\n",
    "    'subsample': sp.stats.uniform(0.5, 0.5),  # Fracción de muestras usadas para entrenar cada árbol\n",
    "    'colsample_bytree': sp.stats.uniform(0.5, 0.5),  # Fracción de características usadas para cada árbol\n",
    "    'gamma': sp.stats.uniform(0, 10),  # Mínimo aumento en la pérdida necesaria para hacer una partición adicional en un nodo\n",
    "    'reg_alpha': sp.stats.uniform(0, 1),  # Regularización L1\n",
    "    'reg_lambda': sp.stats.uniform(0, 1)  # Regularización L2\n",
    "}"
   ]
  },
  {
   "cell_type": "code",
   "execution_count": 25,
   "metadata": {},
   "outputs": [
    {
     "data": {
      "text/plain": [
       "RandomizedSearchCV(cv=3,\n",
       "                   estimator=XGBClassifier(base_score=None, booster=None,\n",
       "                                           callbacks=None,\n",
       "                                           colsample_bylevel=None,\n",
       "                                           colsample_bynode=None,\n",
       "                                           colsample_bytree=None, device=None,\n",
       "                                           early_stopping_rounds=None,\n",
       "                                           enable_categorical=False,\n",
       "                                           eval_metric=None, feature_types=None,\n",
       "                                           gamma=None, grow_policy=None,\n",
       "                                           importance_type=None,\n",
       "                                           interaction_constraints=None,\n",
       "                                           learning_rate...\n",
       "                                        'n_estimators': <scipy.stats._distn_infrastructure.rv_discrete_frozen object at 0x000002508525B940>,\n",
       "                                        'reg_alpha': <scipy.stats._distn_infrastructure.rv_continuous_frozen object at 0x00000250852B2820>,\n",
       "                                        'reg_lambda': <scipy.stats._distn_infrastructure.rv_continuous_frozen object at 0x00000250852B2BB0>,\n",
       "                                        'subsample': <scipy.stats._distn_infrastructure.rv_continuous_frozen object at 0x00000250852B2100>},\n",
       "                   random_state=0)"
      ]
     },
     "execution_count": 25,
     "metadata": {},
     "output_type": "execute_result"
    }
   ],
   "source": [
    "from sklearn.model_selection import RandomizedSearchCV\n",
    "\n",
    "classifier = xgb.XGBClassifier() #instanciamos el modelo \n",
    "model = RandomizedSearchCV(classifier, param_dist,n_iter=100, random_state=0, cv=3) #fijarse que se envia el numero de iteraciones maximo y una semilla por ser un proceso aleatorio\n",
    "\n",
    "# Entrenamos el modelo con la grilla\n",
    "model.fit(X_Train, Y_Train)"
   ]
  },
  {
   "cell_type": "code",
   "execution_count": 26,
   "metadata": {},
   "outputs": [
    {
     "name": "stdout",
     "output_type": "stream",
     "text": [
      "Mejores hiperparámetros: {'colsample_bytree': 0.5355180290989434, 'gamma': 0.8712929970154071, 'learning_rate': 0.016065519232097716, 'max_depth': 6, 'n_estimators': 247, 'reg_alpha': 0.7781567509498505, 'reg_lambda': 0.8700121482468192, 'subsample': 0.989309171116382}\n",
      "Mejor Score: 0.5437265238402457\n",
      "\n"
     ]
    },
    {
     "data": {
      "text/html": [
       "<div>\n",
       "<style scoped>\n",
       "    .dataframe tbody tr th:only-of-type {\n",
       "        vertical-align: middle;\n",
       "    }\n",
       "\n",
       "    .dataframe tbody tr th {\n",
       "        vertical-align: top;\n",
       "    }\n",
       "\n",
       "    .dataframe thead th {\n",
       "        text-align: right;\n",
       "    }\n",
       "</style>\n",
       "<table border=\"1\" class=\"dataframe\">\n",
       "  <thead>\n",
       "    <tr style=\"text-align: right;\">\n",
       "      <th></th>\n",
       "      <th>mean_fit_time</th>\n",
       "      <th>std_fit_time</th>\n",
       "      <th>mean_score_time</th>\n",
       "      <th>std_score_time</th>\n",
       "      <th>param_colsample_bytree</th>\n",
       "      <th>param_gamma</th>\n",
       "      <th>param_learning_rate</th>\n",
       "      <th>param_max_depth</th>\n",
       "      <th>param_n_estimators</th>\n",
       "      <th>param_reg_alpha</th>\n",
       "      <th>param_reg_lambda</th>\n",
       "      <th>param_subsample</th>\n",
       "      <th>params</th>\n",
       "      <th>split0_test_score</th>\n",
       "      <th>split1_test_score</th>\n",
       "      <th>split2_test_score</th>\n",
       "      <th>mean_test_score</th>\n",
       "      <th>std_test_score</th>\n",
       "      <th>rank_test_score</th>\n",
       "    </tr>\n",
       "  </thead>\n",
       "  <tbody>\n",
       "    <tr>\n",
       "      <th>0</th>\n",
       "      <td>0.121776</td>\n",
       "      <td>0.007429</td>\n",
       "      <td>0.006856</td>\n",
       "      <td>0.005049</td>\n",
       "      <td>0.774407</td>\n",
       "      <td>7.151894</td>\n",
       "      <td>0.190829</td>\n",
       "      <td>6</td>\n",
       "      <td>153</td>\n",
       "      <td>0.423655</td>\n",
       "      <td>0.645894</td>\n",
       "      <td>0.718794</td>\n",
       "      <td>{'colsample_bytree': 0.7744067519636624, 'gamm...</td>\n",
       "      <td>0.527132</td>\n",
       "      <td>0.542636</td>\n",
       "      <td>0.522639</td>\n",
       "      <td>0.530802</td>\n",
       "      <td>0.008566</td>\n",
       "      <td>85</td>\n",
       "    </tr>\n",
       "    <tr>\n",
       "      <th>1</th>\n",
       "      <td>0.075747</td>\n",
       "      <td>0.007234</td>\n",
       "      <td>0.000743</td>\n",
       "      <td>0.001051</td>\n",
       "      <td>0.945887</td>\n",
       "      <td>9.636628</td>\n",
       "      <td>0.125032</td>\n",
       "      <td>9</td>\n",
       "      <td>89</td>\n",
       "      <td>0.528895</td>\n",
       "      <td>0.568045</td>\n",
       "      <td>0.962798</td>\n",
       "      <td>{'colsample_bytree': 0.9458865003910399, 'gamm...</td>\n",
       "      <td>0.524548</td>\n",
       "      <td>0.540052</td>\n",
       "      <td>0.534282</td>\n",
       "      <td>0.532961</td>\n",
       "      <td>0.006398</td>\n",
       "      <td>63</td>\n",
       "    </tr>\n",
       "    <tr>\n",
       "      <th>2</th>\n",
       "      <td>0.343356</td>\n",
       "      <td>0.069672</td>\n",
       "      <td>0.010156</td>\n",
       "      <td>0.002733</td>\n",
       "      <td>0.535518</td>\n",
       "      <td>0.871293</td>\n",
       "      <td>0.016066</td>\n",
       "      <td>6</td>\n",
       "      <td>247</td>\n",
       "      <td>0.778157</td>\n",
       "      <td>0.870012</td>\n",
       "      <td>0.989309</td>\n",
       "      <td>{'colsample_bytree': 0.5355180290989434, 'gamm...</td>\n",
       "      <td>0.533592</td>\n",
       "      <td>0.564599</td>\n",
       "      <td>0.532988</td>\n",
       "      <td>0.543727</td>\n",
       "      <td>0.014761</td>\n",
       "      <td>1</td>\n",
       "    </tr>\n",
       "    <tr>\n",
       "      <th>3</th>\n",
       "      <td>0.068225</td>\n",
       "      <td>0.007612</td>\n",
       "      <td>0.007875</td>\n",
       "      <td>0.006381</td>\n",
       "      <td>0.899579</td>\n",
       "      <td>4.614794</td>\n",
       "      <td>0.244159</td>\n",
       "      <td>10</td>\n",
       "      <td>82</td>\n",
       "      <td>0.58202</td>\n",
       "      <td>0.537373</td>\n",
       "      <td>0.879308</td>\n",
       "      <td>{'colsample_bytree': 0.8995792821083618, 'gamm...</td>\n",
       "      <td>0.519380</td>\n",
       "      <td>0.551680</td>\n",
       "      <td>0.544631</td>\n",
       "      <td>0.538564</td>\n",
       "      <td>0.013867</td>\n",
       "      <td>11</td>\n",
       "    </tr>\n",
       "    <tr>\n",
       "      <th>4</th>\n",
       "      <td>0.185885</td>\n",
       "      <td>0.045473</td>\n",
       "      <td>0.005189</td>\n",
       "      <td>0.006607</td>\n",
       "      <td>0.552954</td>\n",
       "      <td>4.736004</td>\n",
       "      <td>0.0659</td>\n",
       "      <td>5</td>\n",
       "      <td>233</td>\n",
       "      <td>0.21655</td>\n",
       "      <td>0.135218</td>\n",
       "      <td>0.662071</td>\n",
       "      <td>{'colsample_bytree': 0.5529538035938961, 'gamm...</td>\n",
       "      <td>0.525840</td>\n",
       "      <td>0.550388</td>\n",
       "      <td>0.535576</td>\n",
       "      <td>0.537268</td>\n",
       "      <td>0.010093</td>\n",
       "      <td>27</td>\n",
       "    </tr>\n",
       "    <tr>\n",
       "      <th>...</th>\n",
       "      <td>...</td>\n",
       "      <td>...</td>\n",
       "      <td>...</td>\n",
       "      <td>...</td>\n",
       "      <td>...</td>\n",
       "      <td>...</td>\n",
       "      <td>...</td>\n",
       "      <td>...</td>\n",
       "      <td>...</td>\n",
       "      <td>...</td>\n",
       "      <td>...</td>\n",
       "      <td>...</td>\n",
       "      <td>...</td>\n",
       "      <td>...</td>\n",
       "      <td>...</td>\n",
       "      <td>...</td>\n",
       "      <td>...</td>\n",
       "      <td>...</td>\n",
       "      <td>...</td>\n",
       "    </tr>\n",
       "    <tr>\n",
       "      <th>95</th>\n",
       "      <td>0.191590</td>\n",
       "      <td>0.017980</td>\n",
       "      <td>0.002795</td>\n",
       "      <td>0.003953</td>\n",
       "      <td>0.76543</td>\n",
       "      <td>0.852331</td>\n",
       "      <td>0.209703</td>\n",
       "      <td>6</td>\n",
       "      <td>230</td>\n",
       "      <td>0.889287</td>\n",
       "      <td>0.682119</td>\n",
       "      <td>0.945657</td>\n",
       "      <td>{'colsample_bytree': 0.7654300652679359, 'gamm...</td>\n",
       "      <td>0.533592</td>\n",
       "      <td>0.555556</td>\n",
       "      <td>0.523933</td>\n",
       "      <td>0.537693</td>\n",
       "      <td>0.013232</td>\n",
       "      <td>23</td>\n",
       "    </tr>\n",
       "    <tr>\n",
       "      <th>96</th>\n",
       "      <td>0.058219</td>\n",
       "      <td>0.010366</td>\n",
       "      <td>0.007682</td>\n",
       "      <td>0.006142</td>\n",
       "      <td>0.500604</td>\n",
       "      <td>9.372188</td>\n",
       "      <td>0.297492</td>\n",
       "      <td>13</td>\n",
       "      <td>105</td>\n",
       "      <td>0.190567</td>\n",
       "      <td>0.019123</td>\n",
       "      <td>0.759075</td>\n",
       "      <td>{'colsample_bytree': 0.5006037858684244, 'gamm...</td>\n",
       "      <td>0.523256</td>\n",
       "      <td>0.543928</td>\n",
       "      <td>0.531695</td>\n",
       "      <td>0.532959</td>\n",
       "      <td>0.008486</td>\n",
       "      <td>65</td>\n",
       "    </tr>\n",
       "    <tr>\n",
       "      <th>97</th>\n",
       "      <td>0.148688</td>\n",
       "      <td>0.016963</td>\n",
       "      <td>0.010475</td>\n",
       "      <td>0.007408</td>\n",
       "      <td>0.921388</td>\n",
       "      <td>3.73216</td>\n",
       "      <td>0.076859</td>\n",
       "      <td>5</td>\n",
       "      <td>267</td>\n",
       "      <td>0.274575</td>\n",
       "      <td>0.00869</td>\n",
       "      <td>0.512472</td>\n",
       "      <td>{'colsample_bytree': 0.9213884313424212, 'gamm...</td>\n",
       "      <td>0.532300</td>\n",
       "      <td>0.551680</td>\n",
       "      <td>0.512290</td>\n",
       "      <td>0.532090</td>\n",
       "      <td>0.016082</td>\n",
       "      <td>74</td>\n",
       "    </tr>\n",
       "    <tr>\n",
       "      <th>98</th>\n",
       "      <td>0.176100</td>\n",
       "      <td>0.054290</td>\n",
       "      <td>0.005209</td>\n",
       "      <td>0.007366</td>\n",
       "      <td>0.572143</td>\n",
       "      <td>5.137597</td>\n",
       "      <td>0.076797</td>\n",
       "      <td>10</td>\n",
       "      <td>241</td>\n",
       "      <td>0.055107</td>\n",
       "      <td>0.911197</td>\n",
       "      <td>0.942476</td>\n",
       "      <td>{'colsample_bytree': 0.5721430482944454, 'gamm...</td>\n",
       "      <td>0.518088</td>\n",
       "      <td>0.541344</td>\n",
       "      <td>0.534282</td>\n",
       "      <td>0.531238</td>\n",
       "      <td>0.009735</td>\n",
       "      <td>80</td>\n",
       "    </tr>\n",
       "    <tr>\n",
       "      <th>99</th>\n",
       "      <td>0.158697</td>\n",
       "      <td>0.016713</td>\n",
       "      <td>0.001781</td>\n",
       "      <td>0.002519</td>\n",
       "      <td>0.948639</td>\n",
       "      <td>3.321909</td>\n",
       "      <td>0.223878</td>\n",
       "      <td>8</td>\n",
       "      <td>229</td>\n",
       "      <td>0.34944</td>\n",
       "      <td>0.78148</td>\n",
       "      <td>0.875511</td>\n",
       "      <td>{'colsample_bytree': 0.9486385366073582, 'gamm...</td>\n",
       "      <td>0.520672</td>\n",
       "      <td>0.556848</td>\n",
       "      <td>0.523933</td>\n",
       "      <td>0.533817</td>\n",
       "      <td>0.016339</td>\n",
       "      <td>58</td>\n",
       "    </tr>\n",
       "  </tbody>\n",
       "</table>\n",
       "<p>100 rows × 19 columns</p>\n",
       "</div>"
      ],
      "text/plain": [
       "    mean_fit_time  std_fit_time  mean_score_time  std_score_time  \\\n",
       "0        0.121776      0.007429         0.006856        0.005049   \n",
       "1        0.075747      0.007234         0.000743        0.001051   \n",
       "2        0.343356      0.069672         0.010156        0.002733   \n",
       "3        0.068225      0.007612         0.007875        0.006381   \n",
       "4        0.185885      0.045473         0.005189        0.006607   \n",
       "..            ...           ...              ...             ...   \n",
       "95       0.191590      0.017980         0.002795        0.003953   \n",
       "96       0.058219      0.010366         0.007682        0.006142   \n",
       "97       0.148688      0.016963         0.010475        0.007408   \n",
       "98       0.176100      0.054290         0.005209        0.007366   \n",
       "99       0.158697      0.016713         0.001781        0.002519   \n",
       "\n",
       "   param_colsample_bytree param_gamma param_learning_rate param_max_depth  \\\n",
       "0                0.774407    7.151894            0.190829               6   \n",
       "1                0.945887    9.636628            0.125032               9   \n",
       "2                0.535518    0.871293            0.016066               6   \n",
       "3                0.899579    4.614794            0.244159              10   \n",
       "4                0.552954    4.736004              0.0659               5   \n",
       "..                    ...         ...                 ...             ...   \n",
       "95                0.76543    0.852331            0.209703               6   \n",
       "96               0.500604    9.372188            0.297492              13   \n",
       "97               0.921388     3.73216            0.076859               5   \n",
       "98               0.572143    5.137597            0.076797              10   \n",
       "99               0.948639    3.321909            0.223878               8   \n",
       "\n",
       "   param_n_estimators param_reg_alpha param_reg_lambda param_subsample  \\\n",
       "0                 153        0.423655         0.645894        0.718794   \n",
       "1                  89        0.528895         0.568045        0.962798   \n",
       "2                 247        0.778157         0.870012        0.989309   \n",
       "3                  82         0.58202         0.537373        0.879308   \n",
       "4                 233         0.21655         0.135218        0.662071   \n",
       "..                ...             ...              ...             ...   \n",
       "95                230        0.889287         0.682119        0.945657   \n",
       "96                105        0.190567         0.019123        0.759075   \n",
       "97                267        0.274575          0.00869        0.512472   \n",
       "98                241        0.055107         0.911197        0.942476   \n",
       "99                229         0.34944          0.78148        0.875511   \n",
       "\n",
       "                                               params  split0_test_score  \\\n",
       "0   {'colsample_bytree': 0.7744067519636624, 'gamm...           0.527132   \n",
       "1   {'colsample_bytree': 0.9458865003910399, 'gamm...           0.524548   \n",
       "2   {'colsample_bytree': 0.5355180290989434, 'gamm...           0.533592   \n",
       "3   {'colsample_bytree': 0.8995792821083618, 'gamm...           0.519380   \n",
       "4   {'colsample_bytree': 0.5529538035938961, 'gamm...           0.525840   \n",
       "..                                                ...                ...   \n",
       "95  {'colsample_bytree': 0.7654300652679359, 'gamm...           0.533592   \n",
       "96  {'colsample_bytree': 0.5006037858684244, 'gamm...           0.523256   \n",
       "97  {'colsample_bytree': 0.9213884313424212, 'gamm...           0.532300   \n",
       "98  {'colsample_bytree': 0.5721430482944454, 'gamm...           0.518088   \n",
       "99  {'colsample_bytree': 0.9486385366073582, 'gamm...           0.520672   \n",
       "\n",
       "    split1_test_score  split2_test_score  mean_test_score  std_test_score  \\\n",
       "0            0.542636           0.522639         0.530802        0.008566   \n",
       "1            0.540052           0.534282         0.532961        0.006398   \n",
       "2            0.564599           0.532988         0.543727        0.014761   \n",
       "3            0.551680           0.544631         0.538564        0.013867   \n",
       "4            0.550388           0.535576         0.537268        0.010093   \n",
       "..                ...                ...              ...             ...   \n",
       "95           0.555556           0.523933         0.537693        0.013232   \n",
       "96           0.543928           0.531695         0.532959        0.008486   \n",
       "97           0.551680           0.512290         0.532090        0.016082   \n",
       "98           0.541344           0.534282         0.531238        0.009735   \n",
       "99           0.556848           0.523933         0.533817        0.016339   \n",
       "\n",
       "    rank_test_score  \n",
       "0                85  \n",
       "1                63  \n",
       "2                 1  \n",
       "3                11  \n",
       "4                27  \n",
       "..              ...  \n",
       "95               23  \n",
       "96               65  \n",
       "97               74  \n",
       "98               80  \n",
       "99               58  \n",
       "\n",
       "[100 rows x 19 columns]"
      ]
     },
     "execution_count": 26,
     "metadata": {},
     "output_type": "execute_result"
    }
   ],
   "source": [
    "print(\"Mejores hiperparámetros: \"+str(model.best_params_))\n",
    "print(\"Mejor Score: \"+str(model.best_score_)+'\\n')\n",
    "\n",
    "scores = pd.DataFrame(model.cv_results_)\n",
    "scores"
   ]
  },
  {
   "cell_type": "markdown",
   "metadata": {},
   "source": [
    "## Random Forest"
   ]
  },
  {
   "cell_type": "code",
   "execution_count": 27,
   "metadata": {},
   "outputs": [],
   "source": [
    "X = df[['seniority_level_id','industry_type_id','position_type_id','location_id']]  \n",
    "y = df.rango_salarial_num # Etiqueta a predecir"
   ]
  },
  {
   "cell_type": "code",
   "execution_count": 28,
   "metadata": {},
   "outputs": [
    {
     "name": "stdout",
     "output_type": "stream",
     "text": [
      "Accuracy en train: 0.7346938775510204\n",
      "Accuracy en test: 0.5348837209302325\n"
     ]
    }
   ],
   "source": [
    "from sklearn.model_selection import train_test_split\n",
    "from sklearn.ensemble import RandomForestClassifier\n",
    "from sklearn.metrics import confusion_matrix\n",
    "\n",
    "X_Train, X_Test, Y_Train, Y_Test = train_test_split(X, y, test_size = 0.35, random_state=42, stratify=y)\n",
    "\n",
    "from sklearn.preprocessing import StandardScaler\n",
    "sc_X = StandardScaler()\n",
    "X_Train = sc_X.fit_transform(X_Train)\n",
    "X_Test = sc_X.transform(X_Test)\n",
    "\n",
    "classifier = RandomForestClassifier(random_state=42) #trabajaremos con regresion polinomica, probar cambiando a linear\n",
    "classifier.fit(X_Train, Y_Train)\n",
    "\n",
    "# Predecimos\n",
    "y_train_pred = classifier.predict(X_Train)\n",
    "y_test_pred = classifier.predict(X_Test)\n",
    "\n",
    "# Evaluamos\n",
    "print('Accuracy en train:', accuracy_score(Y_Train, y_train_pred))\n",
    "print('Accuracy en test:', accuracy_score(Y_Test, y_test_pred))"
   ]
  },
  {
   "cell_type": "code",
   "execution_count": 29,
   "metadata": {},
   "outputs": [
    {
     "name": "stdout",
     "output_type": "stream",
     "text": [
      "Matriz de Confusión:\n",
      " [[324  84  15  56]\n",
      " [ 72 192  38  24]\n",
      " [ 18  61  22   4]\n",
      " [131  30   7  83]]\n"
     ]
    }
   ],
   "source": [
    "cm = confusion_matrix(Y_Test, y_test_pred)\n",
    "print('Matriz de Confusión:\\n', cm)"
   ]
  },
  {
   "cell_type": "code",
   "execution_count": 30,
   "metadata": {},
   "outputs": [],
   "source": [
    "import scipy as sp\n",
    "from scipy import stats\n",
    "\n",
    "# Grilla para Randomized Search\n",
    "param_dist = {\n",
    "    'n_estimators': sp.stats.randint(10, 200),  # Número de árboles en el bosque\n",
    "    'max_features': ['auto', 'sqrt', 'log2'],  # Número de características a considerar en cada división\n",
    "    'max_depth': sp.stats.randint(1, 50),  # Profundidad máxima del árbol\n",
    "    'min_samples_split': sp.stats.randint(2, 20),  # Mínimo número de muestras necesarias para dividir un nodo\n",
    "    'min_samples_leaf': sp.stats.randint(1, 20),  # Mínimo número de muestras necesarias para estar en un nodo hoja\n",
    "    'bootstrap': [True, False]  # Si se deben usar muestras de bootstrap para construir árboles\n",
    "}"
   ]
  },
  {
   "cell_type": "code",
   "execution_count": 31,
   "metadata": {},
   "outputs": [
    {
     "data": {
      "text/plain": [
       "RandomizedSearchCV(cv=3, estimator=RandomForestClassifier(), n_iter=100,\n",
       "                   param_distributions={'bootstrap': [True, False],\n",
       "                                        'max_depth': <scipy.stats._distn_infrastructure.rv_discrete_frozen object at 0x00000250852F39A0>,\n",
       "                                        'max_features': ['auto', 'sqrt',\n",
       "                                                         'log2'],\n",
       "                                        'min_samples_leaf': <scipy.stats._distn_infrastructure.rv_discrete_frozen object at 0x00000250852F3460>,\n",
       "                                        'min_samples_split': <scipy.stats._distn_infrastructure.rv_discrete_frozen object at 0x00000250852F3A00>,\n",
       "                                        'n_estimators': <scipy.stats._distn_infrastructure.rv_discrete_frozen object at 0x0000025083D6E280>},\n",
       "                   random_state=0)"
      ]
     },
     "execution_count": 31,
     "metadata": {},
     "output_type": "execute_result"
    }
   ],
   "source": [
    "from sklearn.model_selection import RandomizedSearchCV\n",
    "\n",
    "classifier = RandomForestClassifier() #instanciamos el modelo \n",
    "model = RandomizedSearchCV(classifier, param_dist,n_iter=100, random_state=0, cv=3) #fijarse que se envia el numero de iteraciones maximo y una semilla por ser un proceso aleatorio\n",
    "\n",
    "# Entrenamos el modelo con la grilla\n",
    "model.fit(X_Train, Y_Train)"
   ]
  },
  {
   "cell_type": "code",
   "execution_count": 32,
   "metadata": {},
   "outputs": [
    {
     "name": "stdout",
     "output_type": "stream",
     "text": [
      "Mejores hiperparámetros: {'bootstrap': False, 'max_depth': 36, 'max_features': 'log2', 'min_samples_leaf': 12, 'min_samples_split': 16, 'n_estimators': 92}\n",
      "Mejor Score: 0.549160406682654\n",
      "\n"
     ]
    },
    {
     "data": {
      "text/html": [
       "<div>\n",
       "<style scoped>\n",
       "    .dataframe tbody tr th:only-of-type {\n",
       "        vertical-align: middle;\n",
       "    }\n",
       "\n",
       "    .dataframe tbody tr th {\n",
       "        vertical-align: top;\n",
       "    }\n",
       "\n",
       "    .dataframe thead th {\n",
       "        text-align: right;\n",
       "    }\n",
       "</style>\n",
       "<table border=\"1\" class=\"dataframe\">\n",
       "  <thead>\n",
       "    <tr style=\"text-align: right;\">\n",
       "      <th></th>\n",
       "      <th>mean_fit_time</th>\n",
       "      <th>std_fit_time</th>\n",
       "      <th>mean_score_time</th>\n",
       "      <th>std_score_time</th>\n",
       "      <th>param_bootstrap</th>\n",
       "      <th>param_max_depth</th>\n",
       "      <th>param_max_features</th>\n",
       "      <th>param_min_samples_leaf</th>\n",
       "      <th>param_min_samples_split</th>\n",
       "      <th>param_n_estimators</th>\n",
       "      <th>params</th>\n",
       "      <th>split0_test_score</th>\n",
       "      <th>split1_test_score</th>\n",
       "      <th>split2_test_score</th>\n",
       "      <th>mean_test_score</th>\n",
       "      <th>std_test_score</th>\n",
       "      <th>rank_test_score</th>\n",
       "    </tr>\n",
       "  </thead>\n",
       "  <tbody>\n",
       "    <tr>\n",
       "      <th>0</th>\n",
       "      <td>0.139312</td>\n",
       "      <td>0.004298</td>\n",
       "      <td>0.013569</td>\n",
       "      <td>0.002451</td>\n",
       "      <td>True</td>\n",
       "      <td>48</td>\n",
       "      <td>sqrt</td>\n",
       "      <td>1</td>\n",
       "      <td>5</td>\n",
       "      <td>113</td>\n",
       "      <td>{'bootstrap': True, 'max_depth': 48, 'max_feat...</td>\n",
       "      <td>0.518776</td>\n",
       "      <td>0.527121</td>\n",
       "      <td>0.512535</td>\n",
       "      <td>0.519477</td>\n",
       "      <td>0.005975</td>\n",
       "      <td>95</td>\n",
       "    </tr>\n",
       "    <tr>\n",
       "      <th>1</th>\n",
       "      <td>0.088878</td>\n",
       "      <td>0.006888</td>\n",
       "      <td>0.000000</td>\n",
       "      <td>0.000000</td>\n",
       "      <td>False</td>\n",
       "      <td>20</td>\n",
       "      <td>sqrt</td>\n",
       "      <td>19</td>\n",
       "      <td>6</td>\n",
       "      <td>97</td>\n",
       "      <td>{'bootstrap': False, 'max_depth': 20, 'max_fea...</td>\n",
       "      <td>0.543811</td>\n",
       "      <td>0.549374</td>\n",
       "      <td>0.527855</td>\n",
       "      <td>0.540347</td>\n",
       "      <td>0.009120</td>\n",
       "      <td>33</td>\n",
       "    </tr>\n",
       "    <tr>\n",
       "      <th>2</th>\n",
       "      <td>0.047544</td>\n",
       "      <td>0.000444</td>\n",
       "      <td>0.005041</td>\n",
       "      <td>0.007129</td>\n",
       "      <td>True</td>\n",
       "      <td>25</td>\n",
       "      <td>auto</td>\n",
       "      <td>13</td>\n",
       "      <td>3</td>\n",
       "      <td>49</td>\n",
       "      <td>{'bootstrap': True, 'max_depth': 25, 'max_feat...</td>\n",
       "      <td>0.535466</td>\n",
       "      <td>0.549374</td>\n",
       "      <td>0.523677</td>\n",
       "      <td>0.536172</td>\n",
       "      <td>0.010503</td>\n",
       "      <td>57</td>\n",
       "    </tr>\n",
       "    <tr>\n",
       "      <th>3</th>\n",
       "      <td>0.030967</td>\n",
       "      <td>0.005924</td>\n",
       "      <td>0.003042</td>\n",
       "      <td>0.004302</td>\n",
       "      <td>False</td>\n",
       "      <td>47</td>\n",
       "      <td>auto</td>\n",
       "      <td>18</td>\n",
       "      <td>7</td>\n",
       "      <td>35</td>\n",
       "      <td>{'bootstrap': False, 'max_depth': 47, 'max_fea...</td>\n",
       "      <td>0.541029</td>\n",
       "      <td>0.545202</td>\n",
       "      <td>0.526462</td>\n",
       "      <td>0.537564</td>\n",
       "      <td>0.008033</td>\n",
       "      <td>51</td>\n",
       "    </tr>\n",
       "    <tr>\n",
       "      <th>4</th>\n",
       "      <td>0.115607</td>\n",
       "      <td>0.007139</td>\n",
       "      <td>0.009814</td>\n",
       "      <td>0.006979</td>\n",
       "      <td>False</td>\n",
       "      <td>9</td>\n",
       "      <td>sqrt</td>\n",
       "      <td>17</td>\n",
       "      <td>7</td>\n",
       "      <td>89</td>\n",
       "      <td>{'bootstrap': False, 'max_depth': 9, 'max_feat...</td>\n",
       "      <td>0.538248</td>\n",
       "      <td>0.553547</td>\n",
       "      <td>0.527855</td>\n",
       "      <td>0.539883</td>\n",
       "      <td>0.010552</td>\n",
       "      <td>37</td>\n",
       "    </tr>\n",
       "    <tr>\n",
       "      <th>...</th>\n",
       "      <td>...</td>\n",
       "      <td>...</td>\n",
       "      <td>...</td>\n",
       "      <td>...</td>\n",
       "      <td>...</td>\n",
       "      <td>...</td>\n",
       "      <td>...</td>\n",
       "      <td>...</td>\n",
       "      <td>...</td>\n",
       "      <td>...</td>\n",
       "      <td>...</td>\n",
       "      <td>...</td>\n",
       "      <td>...</td>\n",
       "      <td>...</td>\n",
       "      <td>...</td>\n",
       "      <td>...</td>\n",
       "      <td>...</td>\n",
       "    </tr>\n",
       "    <tr>\n",
       "      <th>95</th>\n",
       "      <td>0.100227</td>\n",
       "      <td>0.008786</td>\n",
       "      <td>0.010977</td>\n",
       "      <td>0.003308</td>\n",
       "      <td>True</td>\n",
       "      <td>34</td>\n",
       "      <td>auto</td>\n",
       "      <td>1</td>\n",
       "      <td>11</td>\n",
       "      <td>90</td>\n",
       "      <td>{'bootstrap': True, 'max_depth': 34, 'max_feat...</td>\n",
       "      <td>0.517385</td>\n",
       "      <td>0.543811</td>\n",
       "      <td>0.525070</td>\n",
       "      <td>0.528755</td>\n",
       "      <td>0.011099</td>\n",
       "      <td>88</td>\n",
       "    </tr>\n",
       "    <tr>\n",
       "      <th>96</th>\n",
       "      <td>0.181964</td>\n",
       "      <td>0.025239</td>\n",
       "      <td>0.019894</td>\n",
       "      <td>0.008597</td>\n",
       "      <td>True</td>\n",
       "      <td>9</td>\n",
       "      <td>sqrt</td>\n",
       "      <td>11</td>\n",
       "      <td>18</td>\n",
       "      <td>165</td>\n",
       "      <td>{'bootstrap': True, 'max_depth': 9, 'max_featu...</td>\n",
       "      <td>0.538248</td>\n",
       "      <td>0.554937</td>\n",
       "      <td>0.520891</td>\n",
       "      <td>0.538025</td>\n",
       "      <td>0.013900</td>\n",
       "      <td>47</td>\n",
       "    </tr>\n",
       "    <tr>\n",
       "      <th>97</th>\n",
       "      <td>0.011009</td>\n",
       "      <td>0.002410</td>\n",
       "      <td>0.004403</td>\n",
       "      <td>0.003148</td>\n",
       "      <td>True</td>\n",
       "      <td>2</td>\n",
       "      <td>auto</td>\n",
       "      <td>6</td>\n",
       "      <td>4</td>\n",
       "      <td>13</td>\n",
       "      <td>{'bootstrap': True, 'max_depth': 2, 'max_featu...</td>\n",
       "      <td>0.521558</td>\n",
       "      <td>0.539638</td>\n",
       "      <td>0.529248</td>\n",
       "      <td>0.530148</td>\n",
       "      <td>0.007409</td>\n",
       "      <td>85</td>\n",
       "    </tr>\n",
       "    <tr>\n",
       "      <th>98</th>\n",
       "      <td>0.192071</td>\n",
       "      <td>0.009579</td>\n",
       "      <td>0.015492</td>\n",
       "      <td>0.000619</td>\n",
       "      <td>True</td>\n",
       "      <td>47</td>\n",
       "      <td>sqrt</td>\n",
       "      <td>12</td>\n",
       "      <td>8</td>\n",
       "      <td>158</td>\n",
       "      <td>{'bootstrap': True, 'max_depth': 47, 'max_feat...</td>\n",
       "      <td>0.534075</td>\n",
       "      <td>0.546592</td>\n",
       "      <td>0.526462</td>\n",
       "      <td>0.535710</td>\n",
       "      <td>0.008299</td>\n",
       "      <td>60</td>\n",
       "    </tr>\n",
       "    <tr>\n",
       "      <th>99</th>\n",
       "      <td>0.147091</td>\n",
       "      <td>0.006663</td>\n",
       "      <td>0.011123</td>\n",
       "      <td>0.007913</td>\n",
       "      <td>True</td>\n",
       "      <td>29</td>\n",
       "      <td>log2</td>\n",
       "      <td>3</td>\n",
       "      <td>8</td>\n",
       "      <td>111</td>\n",
       "      <td>{'bootstrap': True, 'max_depth': 29, 'max_feat...</td>\n",
       "      <td>0.529903</td>\n",
       "      <td>0.541029</td>\n",
       "      <td>0.525070</td>\n",
       "      <td>0.532000</td>\n",
       "      <td>0.006682</td>\n",
       "      <td>78</td>\n",
       "    </tr>\n",
       "  </tbody>\n",
       "</table>\n",
       "<p>100 rows × 17 columns</p>\n",
       "</div>"
      ],
      "text/plain": [
       "    mean_fit_time  std_fit_time  mean_score_time  std_score_time  \\\n",
       "0        0.139312      0.004298         0.013569        0.002451   \n",
       "1        0.088878      0.006888         0.000000        0.000000   \n",
       "2        0.047544      0.000444         0.005041        0.007129   \n",
       "3        0.030967      0.005924         0.003042        0.004302   \n",
       "4        0.115607      0.007139         0.009814        0.006979   \n",
       "..            ...           ...              ...             ...   \n",
       "95       0.100227      0.008786         0.010977        0.003308   \n",
       "96       0.181964      0.025239         0.019894        0.008597   \n",
       "97       0.011009      0.002410         0.004403        0.003148   \n",
       "98       0.192071      0.009579         0.015492        0.000619   \n",
       "99       0.147091      0.006663         0.011123        0.007913   \n",
       "\n",
       "   param_bootstrap param_max_depth param_max_features param_min_samples_leaf  \\\n",
       "0             True              48               sqrt                      1   \n",
       "1            False              20               sqrt                     19   \n",
       "2             True              25               auto                     13   \n",
       "3            False              47               auto                     18   \n",
       "4            False               9               sqrt                     17   \n",
       "..             ...             ...                ...                    ...   \n",
       "95            True              34               auto                      1   \n",
       "96            True               9               sqrt                     11   \n",
       "97            True               2               auto                      6   \n",
       "98            True              47               sqrt                     12   \n",
       "99            True              29               log2                      3   \n",
       "\n",
       "   param_min_samples_split param_n_estimators  \\\n",
       "0                        5                113   \n",
       "1                        6                 97   \n",
       "2                        3                 49   \n",
       "3                        7                 35   \n",
       "4                        7                 89   \n",
       "..                     ...                ...   \n",
       "95                      11                 90   \n",
       "96                      18                165   \n",
       "97                       4                 13   \n",
       "98                       8                158   \n",
       "99                       8                111   \n",
       "\n",
       "                                               params  split0_test_score  \\\n",
       "0   {'bootstrap': True, 'max_depth': 48, 'max_feat...           0.518776   \n",
       "1   {'bootstrap': False, 'max_depth': 20, 'max_fea...           0.543811   \n",
       "2   {'bootstrap': True, 'max_depth': 25, 'max_feat...           0.535466   \n",
       "3   {'bootstrap': False, 'max_depth': 47, 'max_fea...           0.541029   \n",
       "4   {'bootstrap': False, 'max_depth': 9, 'max_feat...           0.538248   \n",
       "..                                                ...                ...   \n",
       "95  {'bootstrap': True, 'max_depth': 34, 'max_feat...           0.517385   \n",
       "96  {'bootstrap': True, 'max_depth': 9, 'max_featu...           0.538248   \n",
       "97  {'bootstrap': True, 'max_depth': 2, 'max_featu...           0.521558   \n",
       "98  {'bootstrap': True, 'max_depth': 47, 'max_feat...           0.534075   \n",
       "99  {'bootstrap': True, 'max_depth': 29, 'max_feat...           0.529903   \n",
       "\n",
       "    split1_test_score  split2_test_score  mean_test_score  std_test_score  \\\n",
       "0            0.527121           0.512535         0.519477        0.005975   \n",
       "1            0.549374           0.527855         0.540347        0.009120   \n",
       "2            0.549374           0.523677         0.536172        0.010503   \n",
       "3            0.545202           0.526462         0.537564        0.008033   \n",
       "4            0.553547           0.527855         0.539883        0.010552   \n",
       "..                ...                ...              ...             ...   \n",
       "95           0.543811           0.525070         0.528755        0.011099   \n",
       "96           0.554937           0.520891         0.538025        0.013900   \n",
       "97           0.539638           0.529248         0.530148        0.007409   \n",
       "98           0.546592           0.526462         0.535710        0.008299   \n",
       "99           0.541029           0.525070         0.532000        0.006682   \n",
       "\n",
       "    rank_test_score  \n",
       "0                95  \n",
       "1                33  \n",
       "2                57  \n",
       "3                51  \n",
       "4                37  \n",
       "..              ...  \n",
       "95               88  \n",
       "96               47  \n",
       "97               85  \n",
       "98               60  \n",
       "99               78  \n",
       "\n",
       "[100 rows x 17 columns]"
      ]
     },
     "execution_count": 32,
     "metadata": {},
     "output_type": "execute_result"
    }
   ],
   "source": [
    "print(\"Mejores hiperparámetros: \"+str(model.best_params_))\n",
    "print(\"Mejor Score: \"+str(model.best_score_)+'\\n')\n",
    "\n",
    "scores = pd.DataFrame(model.cv_results_)\n",
    "scores"
   ]
  }
 ],
 "metadata": {
  "kernelspec": {
   "display_name": "venv",
   "language": "python",
   "name": "python3"
  },
  "language_info": {
   "codemirror_mode": {
    "name": "ipython",
    "version": 3
   },
   "file_extension": ".py",
   "mimetype": "text/x-python",
   "name": "python",
   "nbconvert_exporter": "python",
   "pygments_lexer": "ipython3",
   "version": "3.8.0"
  }
 },
 "nbformat": 4,
 "nbformat_minor": 2
}
