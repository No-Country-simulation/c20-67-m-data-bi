{
 "cells": [
  {
   "cell_type": "code",
   "execution_count": 17,
   "metadata": {},
   "outputs": [],
   "source": [
    "import pandas as pd\n",
    "import numpy as np\n",
    "import matplotlib.pyplot as plt\n",
    "import seaborn as sns\n",
    "from sklearn.metrics import mean_squared_error, r2_score,accuracy_score\n"
   ]
  },
  {
   "cell_type": "code",
   "execution_count": 2,
   "metadata": {},
   "outputs": [],
   "source": [
    "# Cargar los datasets (ajusta las rutas a tus archivos)\n",
    "job_postings = pd.read_csv(r\"job_postings.csv\")"
   ]
  },
  {
   "cell_type": "code",
   "execution_count": 3,
   "metadata": {},
   "outputs": [
    {
     "name": "stdout",
     "output_type": "stream",
     "text": [
      "<class 'pandas.core.frame.DataFrame'>\n",
      "RangeIndex: 3302 entries, 0 to 3301\n",
      "Data columns (total 18 columns):\n",
      " #   Column              Non-Null Count  Dtype  \n",
      "---  ------              --------------  -----  \n",
      " 0   id                  3302 non-null   int64  \n",
      " 1   job_title           3302 non-null   object \n",
      " 2   job_info            3302 non-null   object \n",
      " 3   position_type_id    3302 non-null   int64  \n",
      " 4   company             3302 non-null   object \n",
      " 5   city                3302 non-null   object \n",
      " 6   location_id         3302 non-null   int64  \n",
      " 7   skills              802 non-null    object \n",
      " 8   seniority_level_id  3302 non-null   int64  \n",
      " 9   work_type           3302 non-null   object \n",
      " 10  industry_type_id    3302 non-null   int64  \n",
      " 11  min_salary          3302 non-null   float64\n",
      " 12  max_salary          3302 non-null   float64\n",
      " 13  avg_salary          3302 non-null   float64\n",
      " 14  company_score       3302 non-null   float64\n",
      " 15  sector              3302 non-null   object \n",
      " 16  responsabilities    802 non-null    object \n",
      " 17  requirements        802 non-null    object \n",
      "dtypes: float64(4), int64(5), object(9)\n",
      "memory usage: 464.5+ KB\n"
     ]
    }
   ],
   "source": [
    "job_postings.info()"
   ]
  },
  {
   "cell_type": "code",
   "execution_count": 4,
   "metadata": {},
   "outputs": [
    {
     "data": {
      "text/plain": [
       "work_type\n",
       "Unspecified    1649\n",
       "In-Person      1514\n",
       "Remote          119\n",
       "Hybrid           20\n",
       "Name: count, dtype: int64"
      ]
     },
     "execution_count": 4,
     "metadata": {},
     "output_type": "execute_result"
    }
   ],
   "source": [
    "job_postings.work_type.value_counts()"
   ]
  },
  {
   "cell_type": "code",
   "execution_count": 5,
   "metadata": {},
   "outputs": [
    {
     "data": {
      "text/plain": [
       "seniority_level_id\n",
       "2    1341\n",
       "1    1204\n",
       "3     722\n",
       "4      35\n",
       "Name: count, dtype: int64"
      ]
     },
     "execution_count": 5,
     "metadata": {},
     "output_type": "execute_result"
    }
   ],
   "source": [
    "job_postings.seniority_level_id.value_counts()"
   ]
  },
  {
   "cell_type": "code",
   "execution_count": 6,
   "metadata": {},
   "outputs": [
    {
     "data": {
      "text/plain": [
       "industry_type_id\n",
       "40      1\n",
       "69      1\n",
       "9       1\n",
       "36      1\n",
       "39      1\n",
       "     ... \n",
       "55    103\n",
       "26    140\n",
       "72    322\n",
       "71    859\n",
       "1     923\n",
       "Name: count, Length: 79, dtype: int64"
      ]
     },
     "execution_count": 6,
     "metadata": {},
     "output_type": "execute_result"
    }
   ],
   "source": [
    "job_postings.industry_type_id.value_counts().sort_values(ascending=True)"
   ]
  },
  {
   "cell_type": "code",
   "execution_count": 7,
   "metadata": {},
   "outputs": [
    {
     "data": {
      "text/plain": [
       "sector\n",
       "Accounting & Legal                           1\n",
       "Arts, Entertainment & Recreation             1\n",
       "Hotels & Resorts                             1\n",
       "Non-Profit Organizations                     1\n",
       "Restaurants & Food Services                  1\n",
       "Agriculture & Forestry                       1\n",
       "Energy, Mining & Public Infrastructure       2\n",
       "Mining & Metals                              2\n",
       "Construction, Repair & Maintenance           4\n",
       "Media & Entertainment                        4\n",
       "Arts & Entertainment                         4\n",
       "Media                                        5\n",
       "Educación                                    5\n",
       "Travel & Tourism                             5\n",
       "Real Estate                                  5\n",
       "Transportation & Logistics                   6\n",
       "Telecommunications                           6\n",
       "Consumer Services                            6\n",
       "Non-Profit                                   7\n",
       "Government                                   7\n",
       "Legal                                        7\n",
       "Oil, Gas, Energy & Utilities                 8\n",
       "Retail                                       8\n",
       "Wholesale & Retail                           9\n",
       "Government & Public Administration          10\n",
       "Education                                   14\n",
       "Human Resources                             15\n",
       "Aerospace & Defense                         28\n",
       "Manufacturing                               35\n",
       "Health Care                                 42\n",
       "Insurance                                   46\n",
       "Biotech & Pharmaceuticals                   77\n",
       "Finance                                     82\n",
       "Business Services                           99\n",
       "Information Technology                     172\n",
       "Unspecified                               2576\n",
       "Name: count, dtype: int64"
      ]
     },
     "execution_count": 7,
     "metadata": {},
     "output_type": "execute_result"
    }
   ],
   "source": [
    "job_postings.sector.value_counts().sort_values(ascending=True)"
   ]
  },
  {
   "cell_type": "code",
   "execution_count": 8,
   "metadata": {},
   "outputs": [
    {
     "data": {
      "text/plain": [
       "position_type_id\n",
       "7     1348\n",
       "1      729\n",
       "11     352\n",
       "15     298\n",
       "3      241\n",
       "10     142\n",
       "14      76\n",
       "9       29\n",
       "5       21\n",
       "13      19\n",
       "8       15\n",
       "4       12\n",
       "6        9\n",
       "12       6\n",
       "2        5\n",
       "Name: count, dtype: int64"
      ]
     },
     "execution_count": 8,
     "metadata": {},
     "output_type": "execute_result"
    }
   ],
   "source": [
    "job_postings.position_type_id.value_counts()"
   ]
  },
  {
   "cell_type": "code",
   "execution_count": 9,
   "metadata": {},
   "outputs": [
    {
     "data": {
      "text/plain": [
       "<Axes: xlabel='avg_salary', ylabel='Count'>"
      ]
     },
     "execution_count": 9,
     "metadata": {},
     "output_type": "execute_result"
    },
    {
     "data": {
      "image/png": "[encoded data removed]",
      "text/plain": [
       "<Figure size 640x480 with 1 Axes>"
      ]
     },
     "metadata": {},
     "output_type": "display_data"
    }
   ],
   "source": [
    "# Crear el histograma\n",
    "sns.histplot(data=job_postings, x='avg_salary', bins=20, kde=True)"
   ]
  },
  {
   "cell_type": "code",
   "execution_count": 10,
   "metadata": {},
   "outputs": [],
   "source": [
    "df=job_postings[['seniority_level_id','industry_type_id','position_type_id','location_id','avg_salary']].copy()"
   ]
  },
  {
   "cell_type": "code",
   "execution_count": 11,
   "metadata": {},
   "outputs": [],
   "source": [
    "# Definición de los rangos (ejemplo personalizado)\n",
    "rangos = [0, 75000, 100000, 150000, np.inf]  # Ajusta los rangos según tu análisis\n",
    "labels = ['Menor a 75000$', 'Entre 75000$ y 100000$', 'Entre 100000$ y 150000$', 'Mayor a 150000$']\n",
    "\n",
    "# Creación de la nueva columna\n",
    "df['rango_salarial'] = pd.cut(df['avg_salary'], bins=rangos, labels=labels)\n",
    "# Convertir las categorías a números\n",
    "df['rango_salarial_num'] = pd.factorize(df['rango_salarial'])[0]"
   ]
  },
  {
   "cell_type": "code",
   "execution_count": 12,
   "metadata": {},
   "outputs": [
    {
     "data": {
      "text/plain": [
       "rango_salarial\n",
       "Entre 75000$ y 100000$     1360\n",
       "Entre 100000$ y 150000$     929\n",
       "Menor a 75000$              713\n",
       "Mayor a 150000$             300\n",
       "Name: count, dtype: int64"
      ]
     },
     "execution_count": 12,
     "metadata": {},
     "output_type": "execute_result"
    }
   ],
   "source": [
    "df.rango_salarial.value_counts()"
   ]
  },
  {
   "cell_type": "code",
   "execution_count": 13,
   "metadata": {},
   "outputs": [
    {
     "data": {
      "text/plain": [
       "rango_salarial_num\n",
       "0    1360\n",
       "1     929\n",
       "3     713\n",
       "2     300\n",
       "Name: count, dtype: int64"
      ]
     },
     "execution_count": 13,
     "metadata": {},
     "output_type": "execute_result"
    }
   ],
   "source": [
    "df.rango_salarial_num.value_counts()"
   ]
  },
  {
   "cell_type": "code",
   "execution_count": 14,
   "metadata": {},
   "outputs": [
    {
     "data": {
      "image/png": "[encoded data removed]",
      "text/plain": [
       "<Figure size 1000x800 with 2 Axes>"
      ]
     },
     "metadata": {},
     "output_type": "display_data"
    }
   ],
   "source": [
    "corr = df[['seniority_level_id','industry_type_id','position_type_id','location_id','rango_salarial_num']].corr(method='pearson')\n",
    "plt.figure(figsize=(10,8))\n",
    "sns.heatmap(corr, cbar = True,  square = True, annot=True, fmt= '.2f',annot_kws={'size': 15},\n",
    "           xticklabels= df.columns, \n",
    "           yticklabels= df.columns,\n",
    "           cmap= 'coolwarm')\n",
    "plt.show()"
   ]
  },
  {
   "cell_type": "markdown",
   "metadata": {},
   "source": [
    "## Modelo arbol de decision"
   ]
  },
  {
   "cell_type": "code",
   "execution_count": 15,
   "metadata": {},
   "outputs": [],
   "source": [
    "X = df[['seniority_level_id','industry_type_id','position_type_id','location_id']]  \n",
    "y = df.rango_salarial_num # Etiqueta a predecir"
   ]
  },
  {
   "cell_type": "code",
   "execution_count": 18,
   "metadata": {},
   "outputs": [
    {
     "name": "stdout",
     "output_type": "stream",
     "text": [
      "[0 1 2 3]\n",
      "4\n",
      "4\n",
      "[0.06853737 0.22287398 0.16501405 0.54357461]\n",
      "Accuracy en train: 0.6865912762520194\n",
      "Accuracy en test: 0.5217917675544794\n"
     ]
    }
   ],
   "source": [
    "# Importamos el modelo de arbol de decision \n",
    "from sklearn.tree import DecisionTreeClassifier\n",
    "from sklearn.model_selection import train_test_split\n",
    "from sklearn.metrics import confusion_matrix\n",
    "\n",
    "X_Train, X_Test, Y_Train, Y_Test = train_test_split(X, y, test_size = 0.25, random_state=42)\n",
    "\n",
    "# Instanciamos un objeto de la clase DecisionTreeClassifier\n",
    "clf = DecisionTreeClassifier(max_depth = 12, random_state = 42) \n",
    "\n",
    "# Entrenamos el modelo\n",
    "clf.fit(X_Train, Y_Train)\n",
    "\n",
    "# Exploramos algunas de las características del modelo entrenado. \n",
    "print(clf.classes_) #categorias de la variable a predecir \n",
    "print(clf.n_classes_) #numero de categorias de la variable a predecir\n",
    "print(clf.max_features_) #max numero de atributos \n",
    "print(clf.feature_importances_) #nivel de relevancia de cada atributo en el mismo orden que fue asignado al instancia el modelo\n",
    "\n",
    "# Predecimos\n",
    "y_train_pred = clf.predict(X_Train)\n",
    "y_test_pred = clf.predict(X_Test)\n",
    "\n",
    "# Evaluamos\n",
    "print('Accuracy en train:', accuracy_score(Y_Train, y_train_pred))\n",
    "print('Accuracy en test:', accuracy_score(Y_Test, y_test_pred))"
   ]
  },
  {
   "cell_type": "code",
   "execution_count": 19,
   "metadata": {},
   "outputs": [
    {
     "name": "stdout",
     "output_type": "stream",
     "text": [
      "Matriz de Confusión:\n",
      " [[230  76   6  27]\n",
      " [ 59 155  17  14]\n",
      " [ 14  56   7   3]\n",
      " [101  18   4  39]]\n"
     ]
    }
   ],
   "source": [
    "cm = confusion_matrix(Y_Test, y_test_pred)\n",
    "print('Matriz de Confusión:\\n', cm)"
   ]
  },
  {
   "cell_type": "markdown",
   "metadata": {},
   "source": [
    "## SVM"
   ]
  },
  {
   "cell_type": "code",
   "execution_count": 20,
   "metadata": {},
   "outputs": [],
   "source": [
    "X = df[['seniority_level_id','industry_type_id','position_type_id','location_id']]  \n",
    "y = df.rango_salarial_num # Etiqueta a predecir"
   ]
  },
  {
   "cell_type": "code",
   "execution_count": 21,
   "metadata": {},
   "outputs": [
    {
     "name": "stdout",
     "output_type": "stream",
     "text": [
      "Accuracy en train: 0.5391605365642579\n",
      "Accuracy en test: 0.5348133198789102\n"
     ]
    }
   ],
   "source": [
    "from sklearn.model_selection import train_test_split\n",
    "from sklearn.svm import SVC\n",
    "from sklearn.metrics import confusion_matrix\n",
    "\n",
    "X_Train, X_Test, Y_Train, Y_Test = train_test_split(X, y, test_size = 0.3, random_state=42)\n",
    "\n",
    "from sklearn.preprocessing import StandardScaler\n",
    "sc_X = StandardScaler()\n",
    "X_Train = sc_X.fit_transform(X_Train)\n",
    "X_Test = sc_X.transform(X_Test)\n",
    "\n",
    "classifier = SVC(kernel='poly', random_state=42) #trabajaremos con regresion polinomica, probar cambiando a linear\n",
    "classifier.fit(X_Train, Y_Train)\n",
    "\n",
    "# Predecimos\n",
    "y_train_pred = classifier.predict(X_Train)\n",
    "y_test_pred = classifier.predict(X_Test)\n",
    "\n",
    "# Evaluamos\n",
    "print('Accuracy en train:', accuracy_score(Y_Train, y_train_pred))\n",
    "print('Accuracy en test:', accuracy_score(Y_Test, y_test_pred))"
   ]
  },
  {
   "cell_type": "code",
   "execution_count": 22,
   "metadata": {},
   "outputs": [
    {
     "name": "stdout",
     "output_type": "stream",
     "text": [
      "Matriz de Confusión:\n",
      " [[301 108   0   0]\n",
      " [ 62 229   0   1]\n",
      " [ 14  83   0   0]\n",
      " [163  30   0   0]]\n"
     ]
    }
   ],
   "source": [
    "cm = confusion_matrix(Y_Test, y_test_pred)\n",
    "print('Matriz de Confusión:\\n', cm)"
   ]
  },
  {
   "cell_type": "markdown",
   "metadata": {},
   "source": [
    "## KGBoost"
   ]
  },
  {
   "cell_type": "code",
   "execution_count": 33,
   "metadata": {},
   "outputs": [],
   "source": [
    "X = df[['seniority_level_id','industry_type_id','position_type_id','location_id']]  \n",
    "y = df.rango_salarial_num # Etiqueta a predecir"
   ]
  },
  {
   "cell_type": "code",
   "execution_count": 34,
   "metadata": {},
   "outputs": [
    {
     "name": "stderr",
     "output_type": "stream",
     "text": [
      "c:\\Users\\daine\\Downloads\\Proyecto\\venv\\lib\\site-packages\\xgboost\\core.py:158: UserWarning: [09:37:38] WARNING: C:\\buildkite-agent\\builds\\buildkite-windows-cpu-autoscaling-group-i-0015a694724fa8361-1\\xgboost\\xgboost-ci-windows\\src\\learner.cc:740: \n",
      "Parameters: { \"use_label_encoder\" } are not used.\n",
      "\n",
      "  warnings.warn(smsg, UserWarning)\n"
     ]
    },
    {
     "name": "stdout",
     "output_type": "stream",
     "text": [
      "Accuracy en train: 0.7131112072695802\n",
      "Accuracy en test: 0.5408678102926338\n"
     ]
    }
   ],
   "source": [
    "# Importamos el modelo de arbol de decision \n",
    "from sklearn.tree import DecisionTreeClassifier\n",
    "import xgboost as xgb\n",
    "\n",
    "X_Train, X_Test, Y_Train, Y_Test = train_test_split(X, y, test_size = 0.3, random_state=42,stratify = y)\n",
    "\n",
    "# Instanciamos un objeto de la clase DecisionTreeClassifier\n",
    "clf_xgb = xgb.XGBClassifier(n_estimators=120, seed=42, use_label_encoder= False)\n",
    "                            \n",
    "# Entrenamos\n",
    "clf_xgb.fit(X_Train, Y_Train)\n",
    "\n",
    "# Predecimos\n",
    "y_train_pred = clf_xgb.predict(X_Train)\n",
    "y_test_pred = clf_xgb.predict(X_Test)\n",
    "\n",
    "# Evaluamos\n",
    "print('Accuracy en train:', accuracy_score(Y_Train, y_train_pred))\n",
    "print('Accuracy en test:', accuracy_score(Y_Test, y_test_pred))"
   ]
  },
  {
   "cell_type": "code",
   "execution_count": 35,
   "metadata": {},
   "outputs": [
    {
     "name": "stdout",
     "output_type": "stream",
     "text": [
      "Matriz de Confusión:\n",
      " [[283  80   7  38]\n",
      " [ 64 180  23  12]\n",
      " [  8  66  13   3]\n",
      " [120  33   1  60]]\n"
     ]
    }
   ],
   "source": [
    "cm = confusion_matrix(Y_Test, y_test_pred)\n",
    "print('Matriz de Confusión:\\n', cm)"
   ]
  },
  {
   "cell_type": "code",
   "execution_count": 36,
   "metadata": {},
   "outputs": [],
   "source": [
    "import scipy as sp\n",
    "from scipy import stats\n",
    "\n",
    "param_dist = {\n",
    "    'n_estimators': sp.stats.randint(50, 300),  # Número de árboles en el modelo\n",
    "    'max_depth': sp.stats.randint(3, 15),  # Profundidad máxima del árbol\n",
    "    'learning_rate': sp.stats.uniform(0.01, 0.3),  # Tasa de aprendizaje\n",
    "    'subsample': sp.stats.uniform(0.5, 0.5),  # Fracción de muestras usadas para entrenar cada árbol\n",
    "    'colsample_bytree': sp.stats.uniform(0.5, 0.5),  # Fracción de características usadas para cada árbol\n",
    "    'gamma': sp.stats.uniform(0, 10),  # Mínimo aumento en la pérdida necesaria para hacer una partición adicional en un nodo\n",
    "    'reg_alpha': sp.stats.uniform(0, 1),  # Regularización L1\n",
    "    'reg_lambda': sp.stats.uniform(0, 1)  # Regularización L2\n",
    "}"
   ]
  },
  {
   "cell_type": "code",
   "execution_count": 37,
   "metadata": {},
   "outputs": [
    {
     "data": {
      "text/plain": [
       "RandomizedSearchCV(cv=3,\n",
       "                   estimator=XGBClassifier(base_score=None, booster=None,\n",
       "                                           callbacks=None,\n",
       "                                           colsample_bylevel=None,\n",
       "                                           colsample_bynode=None,\n",
       "                                           colsample_bytree=None, device=None,\n",
       "                                           early_stopping_rounds=None,\n",
       "                                           enable_categorical=False,\n",
       "                                           eval_metric=None, feature_types=None,\n",
       "                                           gamma=None, grow_policy=None,\n",
       "                                           importance_type=None,\n",
       "                                           interaction_constraints=None,\n",
       "                                           learning_rate...\n",
       "                                        'n_estimators': <scipy.stats._distn_infrastructure.rv_discrete_frozen object at 0x0000026D36913AC0>,\n",
       "                                        'reg_alpha': <scipy.stats._distn_infrastructure.rv_continuous_frozen object at 0x0000026D368D5CA0>,\n",
       "                                        'reg_lambda': <scipy.stats._distn_infrastructure.rv_continuous_frozen object at 0x0000026D368D5FA0>,\n",
       "                                        'subsample': <scipy.stats._distn_infrastructure.rv_continuous_frozen object at 0x0000026D36913550>},\n",
       "                   random_state=0)"
      ]
     },
     "execution_count": 37,
     "metadata": {},
     "output_type": "execute_result"
    }
   ],
   "source": [
    "from sklearn.model_selection import RandomizedSearchCV\n",
    "\n",
    "classifier = xgb.XGBClassifier() #instanciamos el modelo \n",
    "model = RandomizedSearchCV(classifier, param_dist,n_iter=100, random_state=0, cv=3) #fijarse que se envia el numero de iteraciones maximo y una semilla por ser un proceso aleatorio\n",
    "\n",
    "# Entrenamos el modelo con la grilla\n",
    "model.fit(X_Train, Y_Train)"
   ]
  },
  {
   "cell_type": "code",
   "execution_count": 38,
   "metadata": {},
   "outputs": [
    {
     "name": "stdout",
     "output_type": "stream",
     "text": [
      "Mejores hiperparámetros: {'colsample_bytree': 0.6625236145041762, 'gamma': 0.38425426472734725, 'learning_rate': 0.2002822173872005, 'max_depth': 9, 'n_estimators': 246, 'reg_alpha': 0.6527903170054908, 'reg_lambda': 0.6350588736035638, 'subsample': 0.9976497838389438}\n",
      "Mejor Score: 0.5538722410317741\n",
      "\n"
     ]
    },
    {
     "data": {
      "text/html": [
       "<div>\n",
       "<style scoped>\n",
       "    .dataframe tbody tr th:only-of-type {\n",
       "        vertical-align: middle;\n",
       "    }\n",
       "\n",
       "    .dataframe tbody tr th {\n",
       "        vertical-align: top;\n",
       "    }\n",
       "\n",
       "    .dataframe thead th {\n",
       "        text-align: right;\n",
       "    }\n",
       "</style>\n",
       "<table border=\"1\" class=\"dataframe\">\n",
       "  <thead>\n",
       "    <tr style=\"text-align: right;\">\n",
       "      <th></th>\n",
       "      <th>mean_fit_time</th>\n",
       "      <th>std_fit_time</th>\n",
       "      <th>mean_score_time</th>\n",
       "      <th>std_score_time</th>\n",
       "      <th>param_colsample_bytree</th>\n",
       "      <th>param_gamma</th>\n",
       "      <th>param_learning_rate</th>\n",
       "      <th>param_max_depth</th>\n",
       "      <th>param_n_estimators</th>\n",
       "      <th>param_reg_alpha</th>\n",
       "      <th>param_reg_lambda</th>\n",
       "      <th>param_subsample</th>\n",
       "      <th>params</th>\n",
       "      <th>split0_test_score</th>\n",
       "      <th>split1_test_score</th>\n",
       "      <th>split2_test_score</th>\n",
       "      <th>mean_test_score</th>\n",
       "      <th>std_test_score</th>\n",
       "      <th>rank_test_score</th>\n",
       "    </tr>\n",
       "  </thead>\n",
       "  <tbody>\n",
       "    <tr>\n",
       "      <th>0</th>\n",
       "      <td>0.093564</td>\n",
       "      <td>0.011146</td>\n",
       "      <td>0.008602</td>\n",
       "      <td>0.007228</td>\n",
       "      <td>0.774407</td>\n",
       "      <td>7.151894</td>\n",
       "      <td>0.190829</td>\n",
       "      <td>6</td>\n",
       "      <td>153</td>\n",
       "      <td>0.423655</td>\n",
       "      <td>0.645894</td>\n",
       "      <td>0.718794</td>\n",
       "      <td>{'colsample_bytree': 0.7744067519636624, 'gamm...</td>\n",
       "      <td>0.527886</td>\n",
       "      <td>0.555844</td>\n",
       "      <td>0.531169</td>\n",
       "      <td>0.538300</td>\n",
       "      <td>0.012478</td>\n",
       "      <td>49</td>\n",
       "    </tr>\n",
       "    <tr>\n",
       "      <th>1</th>\n",
       "      <td>0.067720</td>\n",
       "      <td>0.002535</td>\n",
       "      <td>0.000639</td>\n",
       "      <td>0.000904</td>\n",
       "      <td>0.945887</td>\n",
       "      <td>9.636628</td>\n",
       "      <td>0.125032</td>\n",
       "      <td>9</td>\n",
       "      <td>89</td>\n",
       "      <td>0.528895</td>\n",
       "      <td>0.568045</td>\n",
       "      <td>0.962798</td>\n",
       "      <td>{'colsample_bytree': 0.9458865003910399, 'gamm...</td>\n",
       "      <td>0.526589</td>\n",
       "      <td>0.544156</td>\n",
       "      <td>0.529870</td>\n",
       "      <td>0.533538</td>\n",
       "      <td>0.007626</td>\n",
       "      <td>71</td>\n",
       "    </tr>\n",
       "    <tr>\n",
       "      <th>2</th>\n",
       "      <td>0.322703</td>\n",
       "      <td>0.015726</td>\n",
       "      <td>0.001649</td>\n",
       "      <td>0.002332</td>\n",
       "      <td>0.535518</td>\n",
       "      <td>0.871293</td>\n",
       "      <td>0.016066</td>\n",
       "      <td>6</td>\n",
       "      <td>247</td>\n",
       "      <td>0.778157</td>\n",
       "      <td>0.870012</td>\n",
       "      <td>0.989309</td>\n",
       "      <td>{'colsample_bytree': 0.5355180290989434, 'gamm...</td>\n",
       "      <td>0.546044</td>\n",
       "      <td>0.557143</td>\n",
       "      <td>0.541558</td>\n",
       "      <td>0.548248</td>\n",
       "      <td>0.006550</td>\n",
       "      <td>15</td>\n",
       "    </tr>\n",
       "    <tr>\n",
       "      <th>3</th>\n",
       "      <td>0.064886</td>\n",
       "      <td>0.004602</td>\n",
       "      <td>0.000187</td>\n",
       "      <td>0.000264</td>\n",
       "      <td>0.899579</td>\n",
       "      <td>4.614794</td>\n",
       "      <td>0.244159</td>\n",
       "      <td>10</td>\n",
       "      <td>82</td>\n",
       "      <td>0.58202</td>\n",
       "      <td>0.537373</td>\n",
       "      <td>0.879308</td>\n",
       "      <td>{'colsample_bytree': 0.8995792821083618, 'gamm...</td>\n",
       "      <td>0.535668</td>\n",
       "      <td>0.554545</td>\n",
       "      <td>0.535065</td>\n",
       "      <td>0.541759</td>\n",
       "      <td>0.009044</td>\n",
       "      <td>38</td>\n",
       "    </tr>\n",
       "    <tr>\n",
       "      <th>4</th>\n",
       "      <td>0.171373</td>\n",
       "      <td>0.008930</td>\n",
       "      <td>0.000813</td>\n",
       "      <td>0.001150</td>\n",
       "      <td>0.552954</td>\n",
       "      <td>4.736004</td>\n",
       "      <td>0.0659</td>\n",
       "      <td>5</td>\n",
       "      <td>233</td>\n",
       "      <td>0.21655</td>\n",
       "      <td>0.135218</td>\n",
       "      <td>0.662071</td>\n",
       "      <td>{'colsample_bytree': 0.5529538035938961, 'gamm...</td>\n",
       "      <td>0.538262</td>\n",
       "      <td>0.553247</td>\n",
       "      <td>0.525974</td>\n",
       "      <td>0.539161</td>\n",
       "      <td>0.011152</td>\n",
       "      <td>47</td>\n",
       "    </tr>\n",
       "    <tr>\n",
       "      <th>...</th>\n",
       "      <td>...</td>\n",
       "      <td>...</td>\n",
       "      <td>...</td>\n",
       "      <td>...</td>\n",
       "      <td>...</td>\n",
       "      <td>...</td>\n",
       "      <td>...</td>\n",
       "      <td>...</td>\n",
       "      <td>...</td>\n",
       "      <td>...</td>\n",
       "      <td>...</td>\n",
       "      <td>...</td>\n",
       "      <td>...</td>\n",
       "      <td>...</td>\n",
       "      <td>...</td>\n",
       "      <td>...</td>\n",
       "      <td>...</td>\n",
       "      <td>...</td>\n",
       "      <td>...</td>\n",
       "    </tr>\n",
       "    <tr>\n",
       "      <th>95</th>\n",
       "      <td>0.170552</td>\n",
       "      <td>0.008224</td>\n",
       "      <td>0.001639</td>\n",
       "      <td>0.002317</td>\n",
       "      <td>0.76543</td>\n",
       "      <td>0.852331</td>\n",
       "      <td>0.209703</td>\n",
       "      <td>6</td>\n",
       "      <td>230</td>\n",
       "      <td>0.889287</td>\n",
       "      <td>0.682119</td>\n",
       "      <td>0.945657</td>\n",
       "      <td>{'colsample_bytree': 0.7654300652679359, 'gamm...</td>\n",
       "      <td>0.551232</td>\n",
       "      <td>0.554545</td>\n",
       "      <td>0.542857</td>\n",
       "      <td>0.549545</td>\n",
       "      <td>0.004919</td>\n",
       "      <td>10</td>\n",
       "    </tr>\n",
       "    <tr>\n",
       "      <th>96</th>\n",
       "      <td>0.066054</td>\n",
       "      <td>0.001888</td>\n",
       "      <td>0.011538</td>\n",
       "      <td>0.008289</td>\n",
       "      <td>0.500604</td>\n",
       "      <td>9.372188</td>\n",
       "      <td>0.297492</td>\n",
       "      <td>13</td>\n",
       "      <td>105</td>\n",
       "      <td>0.190567</td>\n",
       "      <td>0.019123</td>\n",
       "      <td>0.759075</td>\n",
       "      <td>{'colsample_bytree': 0.5006037858684244, 'gamm...</td>\n",
       "      <td>0.527886</td>\n",
       "      <td>0.548052</td>\n",
       "      <td>0.524675</td>\n",
       "      <td>0.533538</td>\n",
       "      <td>0.010346</td>\n",
       "      <td>74</td>\n",
       "    </tr>\n",
       "    <tr>\n",
       "      <th>97</th>\n",
       "      <td>0.200796</td>\n",
       "      <td>0.011544</td>\n",
       "      <td>0.000000</td>\n",
       "      <td>0.000000</td>\n",
       "      <td>0.921388</td>\n",
       "      <td>3.73216</td>\n",
       "      <td>0.076859</td>\n",
       "      <td>5</td>\n",
       "      <td>267</td>\n",
       "      <td>0.274575</td>\n",
       "      <td>0.00869</td>\n",
       "      <td>0.512472</td>\n",
       "      <td>{'colsample_bytree': 0.9213884313424212, 'gamm...</td>\n",
       "      <td>0.540856</td>\n",
       "      <td>0.566234</td>\n",
       "      <td>0.536364</td>\n",
       "      <td>0.547818</td>\n",
       "      <td>0.013151</td>\n",
       "      <td>18</td>\n",
       "    </tr>\n",
       "    <tr>\n",
       "      <th>98</th>\n",
       "      <td>0.170791</td>\n",
       "      <td>0.007786</td>\n",
       "      <td>0.001079</td>\n",
       "      <td>0.001526</td>\n",
       "      <td>0.572143</td>\n",
       "      <td>5.137597</td>\n",
       "      <td>0.076797</td>\n",
       "      <td>10</td>\n",
       "      <td>241</td>\n",
       "      <td>0.055107</td>\n",
       "      <td>0.911197</td>\n",
       "      <td>0.942476</td>\n",
       "      <td>{'colsample_bytree': 0.5721430482944454, 'gamm...</td>\n",
       "      <td>0.534371</td>\n",
       "      <td>0.553247</td>\n",
       "      <td>0.528571</td>\n",
       "      <td>0.538730</td>\n",
       "      <td>0.010535</td>\n",
       "      <td>48</td>\n",
       "    </tr>\n",
       "    <tr>\n",
       "      <th>99</th>\n",
       "      <td>0.162132</td>\n",
       "      <td>0.008655</td>\n",
       "      <td>0.001781</td>\n",
       "      <td>0.002519</td>\n",
       "      <td>0.948639</td>\n",
       "      <td>3.321909</td>\n",
       "      <td>0.223878</td>\n",
       "      <td>8</td>\n",
       "      <td>229</td>\n",
       "      <td>0.34944</td>\n",
       "      <td>0.78148</td>\n",
       "      <td>0.875511</td>\n",
       "      <td>{'colsample_bytree': 0.9486385366073582, 'gamm...</td>\n",
       "      <td>0.548638</td>\n",
       "      <td>0.555844</td>\n",
       "      <td>0.537662</td>\n",
       "      <td>0.547382</td>\n",
       "      <td>0.007476</td>\n",
       "      <td>20</td>\n",
       "    </tr>\n",
       "  </tbody>\n",
       "</table>\n",
       "<p>100 rows × 19 columns</p>\n",
       "</div>"
      ],
      "text/plain": [
       "    mean_fit_time  std_fit_time  mean_score_time  std_score_time  \\\n",
       "0        0.093564      0.011146         0.008602        0.007228   \n",
       "1        0.067720      0.002535         0.000639        0.000904   \n",
       "2        0.322703      0.015726         0.001649        0.002332   \n",
       "3        0.064886      0.004602         0.000187        0.000264   \n",
       "4        0.171373      0.008930         0.000813        0.001150   \n",
       "..            ...           ...              ...             ...   \n",
       "95       0.170552      0.008224         0.001639        0.002317   \n",
       "96       0.066054      0.001888         0.011538        0.008289   \n",
       "97       0.200796      0.011544         0.000000        0.000000   \n",
       "98       0.170791      0.007786         0.001079        0.001526   \n",
       "99       0.162132      0.008655         0.001781        0.002519   \n",
       "\n",
       "   param_colsample_bytree param_gamma param_learning_rate param_max_depth  \\\n",
       "0                0.774407    7.151894            0.190829               6   \n",
       "1                0.945887    9.636628            0.125032               9   \n",
       "2                0.535518    0.871293            0.016066               6   \n",
       "3                0.899579    4.614794            0.244159              10   \n",
       "4                0.552954    4.736004              0.0659               5   \n",
       "..                    ...         ...                 ...             ...   \n",
       "95                0.76543    0.852331            0.209703               6   \n",
       "96               0.500604    9.372188            0.297492              13   \n",
       "97               0.921388     3.73216            0.076859               5   \n",
       "98               0.572143    5.137597            0.076797              10   \n",
       "99               0.948639    3.321909            0.223878               8   \n",
       "\n",
       "   param_n_estimators param_reg_alpha param_reg_lambda param_subsample  \\\n",
       "0                 153        0.423655         0.645894        0.718794   \n",
       "1                  89        0.528895         0.568045        0.962798   \n",
       "2                 247        0.778157         0.870012        0.989309   \n",
       "3                  82         0.58202         0.537373        0.879308   \n",
       "4                 233         0.21655         0.135218        0.662071   \n",
       "..                ...             ...              ...             ...   \n",
       "95                230        0.889287         0.682119        0.945657   \n",
       "96                105        0.190567         0.019123        0.759075   \n",
       "97                267        0.274575          0.00869        0.512472   \n",
       "98                241        0.055107         0.911197        0.942476   \n",
       "99                229         0.34944          0.78148        0.875511   \n",
       "\n",
       "                                               params  split0_test_score  \\\n",
       "0   {'colsample_bytree': 0.7744067519636624, 'gamm...           0.527886   \n",
       "1   {'colsample_bytree': 0.9458865003910399, 'gamm...           0.526589   \n",
       "2   {'colsample_bytree': 0.5355180290989434, 'gamm...           0.546044   \n",
       "3   {'colsample_bytree': 0.8995792821083618, 'gamm...           0.535668   \n",
       "4   {'colsample_bytree': 0.5529538035938961, 'gamm...           0.538262   \n",
       "..                                                ...                ...   \n",
       "95  {'colsample_bytree': 0.7654300652679359, 'gamm...           0.551232   \n",
       "96  {'colsample_bytree': 0.5006037858684244, 'gamm...           0.527886   \n",
       "97  {'colsample_bytree': 0.9213884313424212, 'gamm...           0.540856   \n",
       "98  {'colsample_bytree': 0.5721430482944454, 'gamm...           0.534371   \n",
       "99  {'colsample_bytree': 0.9486385366073582, 'gamm...           0.548638   \n",
       "\n",
       "    split1_test_score  split2_test_score  mean_test_score  std_test_score  \\\n",
       "0            0.555844           0.531169         0.538300        0.012478   \n",
       "1            0.544156           0.529870         0.533538        0.007626   \n",
       "2            0.557143           0.541558         0.548248        0.006550   \n",
       "3            0.554545           0.535065         0.541759        0.009044   \n",
       "4            0.553247           0.525974         0.539161        0.011152   \n",
       "..                ...                ...              ...             ...   \n",
       "95           0.554545           0.542857         0.549545        0.004919   \n",
       "96           0.548052           0.524675         0.533538        0.010346   \n",
       "97           0.566234           0.536364         0.547818        0.013151   \n",
       "98           0.553247           0.528571         0.538730        0.010535   \n",
       "99           0.555844           0.537662         0.547382        0.007476   \n",
       "\n",
       "    rank_test_score  \n",
       "0                49  \n",
       "1                71  \n",
       "2                15  \n",
       "3                38  \n",
       "4                47  \n",
       "..              ...  \n",
       "95               10  \n",
       "96               74  \n",
       "97               18  \n",
       "98               48  \n",
       "99               20  \n",
       "\n",
       "[100 rows x 19 columns]"
      ]
     },
     "execution_count": 38,
     "metadata": {},
     "output_type": "execute_result"
    }
   ],
   "source": [
    "print(\"Mejores hiperparámetros: \"+str(model.best_params_))\n",
    "print(\"Mejor Score: \"+str(model.best_score_)+'\\n')\n",
    "\n",
    "scores = pd.DataFrame(model.cv_results_)\n",
    "scores"
   ]
  },
  {
   "cell_type": "markdown",
   "metadata": {},
   "source": [
    "## Random Forest"
   ]
  },
  {
   "cell_type": "code",
   "execution_count": 26,
   "metadata": {},
   "outputs": [],
   "source": [
    "X = df[['seniority_level_id','industry_type_id','position_type_id','location_id']]  \n",
    "y = df.rango_salarial_num # Etiqueta a predecir"
   ]
  },
  {
   "cell_type": "code",
   "execution_count": 27,
   "metadata": {},
   "outputs": [
    {
     "name": "stdout",
     "output_type": "stream",
     "text": [
      "Accuracy en train: 0.7264678471575023\n",
      "Accuracy en test: 0.523356401384083\n"
     ]
    }
   ],
   "source": [
    "from sklearn.model_selection import train_test_split\n",
    "from sklearn.ensemble import RandomForestClassifier\n",
    "from sklearn.metrics import confusion_matrix\n",
    "\n",
    "X_Train, X_Test, Y_Train, Y_Test = train_test_split(X, y, test_size = 0.35, random_state=42, stratify=y)\n",
    "\n",
    "from sklearn.preprocessing import StandardScaler\n",
    "sc_X = StandardScaler()\n",
    "X_Train = sc_X.fit_transform(X_Train)\n",
    "X_Test = sc_X.transform(X_Test)\n",
    "\n",
    "classifier = RandomForestClassifier(random_state=42) #trabajaremos con regresion polinomica, probar cambiando a linear\n",
    "classifier.fit(X_Train, Y_Train)\n",
    "\n",
    "# Predecimos\n",
    "y_train_pred = classifier.predict(X_Train)\n",
    "y_test_pred = classifier.predict(X_Test)\n",
    "\n",
    "# Evaluamos\n",
    "print('Accuracy en train:', accuracy_score(Y_Train, y_train_pred))\n",
    "print('Accuracy en test:', accuracy_score(Y_Test, y_test_pred))"
   ]
  },
  {
   "cell_type": "code",
   "execution_count": 28,
   "metadata": {},
   "outputs": [
    {
     "name": "stdout",
     "output_type": "stream",
     "text": [
      "Matriz de Confusión:\n",
      " [[327  80  14  55]\n",
      " [ 82 190  38  15]\n",
      " [ 21  64  18   2]\n",
      " [141  37   2  70]]\n"
     ]
    }
   ],
   "source": [
    "cm = confusion_matrix(Y_Test, y_test_pred)\n",
    "print('Matriz de Confusión:\\n', cm)"
   ]
  },
  {
   "cell_type": "code",
   "execution_count": 29,
   "metadata": {},
   "outputs": [],
   "source": [
    "import scipy as sp\n",
    "from scipy import stats\n",
    "\n",
    "# Grilla para Randomized Search\n",
    "param_dist = {\n",
    "    'n_estimators': sp.stats.randint(10, 200),  # Número de árboles en el bosque\n",
    "    'max_features': ['auto', 'sqrt', 'log2'],  # Número de características a considerar en cada división\n",
    "    'max_depth': sp.stats.randint(1, 50),  # Profundidad máxima del árbol\n",
    "    'min_samples_split': sp.stats.randint(2, 20),  # Mínimo número de muestras necesarias para dividir un nodo\n",
    "    'min_samples_leaf': sp.stats.randint(1, 20),  # Mínimo número de muestras necesarias para estar en un nodo hoja\n",
    "    'bootstrap': [True, False]  # Si se deben usar muestras de bootstrap para construir árboles\n",
    "}"
   ]
  },
  {
   "cell_type": "code",
   "execution_count": 31,
   "metadata": {},
   "outputs": [
    {
     "data": {
      "text/plain": [
       "RandomizedSearchCV(cv=3, estimator=RandomForestClassifier(), n_iter=100,\n",
       "                   param_distributions={'bootstrap': [True, False],\n",
       "                                        'max_depth': <scipy.stats._distn_infrastructure.rv_discrete_frozen object at 0x0000026D2E8CFB20>,\n",
       "                                        'max_features': ['auto', 'sqrt',\n",
       "                                                         'log2'],\n",
       "                                        'min_samples_leaf': <scipy.stats._distn_infrastructure.rv_discrete_frozen object at 0x0000026D2E018FD0>,\n",
       "                                        'min_samples_split': <scipy.stats._distn_infrastructure.rv_discrete_frozen object at 0x0000026D2E8EE340>,\n",
       "                                        'n_estimators': <scipy.stats._distn_infrastructure.rv_discrete_frozen object at 0x0000026D2EB8AA60>},\n",
       "                   random_state=0)"
      ]
     },
     "execution_count": 31,
     "metadata": {},
     "output_type": "execute_result"
    }
   ],
   "source": [
    "from sklearn.model_selection import RandomizedSearchCV\n",
    "\n",
    "classifier = RandomForestClassifier() #instanciamos el modelo \n",
    "model = RandomizedSearchCV(classifier, param_dist,n_iter=100, random_state=0, cv=3) #fijarse que se envia el numero de iteraciones maximo y una semilla por ser un proceso aleatorio\n",
    "\n",
    "# Entrenamos el modelo con la grilla\n",
    "model.fit(X_Train, Y_Train)"
   ]
  },
  {
   "cell_type": "code",
   "execution_count": 32,
   "metadata": {},
   "outputs": [
    {
     "name": "stdout",
     "output_type": "stream",
     "text": [
      "Mejores hiperparámetros: {'bootstrap': True, 'max_depth': 46, 'max_features': 'auto', 'min_samples_leaf': 5, 'min_samples_split': 6, 'n_estimators': 59}\n",
      "Mejor Score: 0.5503249078668073\n",
      "\n"
     ]
    },
    {
     "data": {
      "text/html": [
       "<div>\n",
       "<style scoped>\n",
       "    .dataframe tbody tr th:only-of-type {\n",
       "        vertical-align: middle;\n",
       "    }\n",
       "\n",
       "    .dataframe tbody tr th {\n",
       "        vertical-align: top;\n",
       "    }\n",
       "\n",
       "    .dataframe thead th {\n",
       "        text-align: right;\n",
       "    }\n",
       "</style>\n",
       "<table border=\"1\" class=\"dataframe\">\n",
       "  <thead>\n",
       "    <tr style=\"text-align: right;\">\n",
       "      <th></th>\n",
       "      <th>mean_fit_time</th>\n",
       "      <th>std_fit_time</th>\n",
       "      <th>mean_score_time</th>\n",
       "      <th>std_score_time</th>\n",
       "      <th>param_bootstrap</th>\n",
       "      <th>param_max_depth</th>\n",
       "      <th>param_max_features</th>\n",
       "      <th>param_min_samples_leaf</th>\n",
       "      <th>param_min_samples_split</th>\n",
       "      <th>param_n_estimators</th>\n",
       "      <th>params</th>\n",
       "      <th>split0_test_score</th>\n",
       "      <th>split1_test_score</th>\n",
       "      <th>split2_test_score</th>\n",
       "      <th>mean_test_score</th>\n",
       "      <th>std_test_score</th>\n",
       "      <th>rank_test_score</th>\n",
       "    </tr>\n",
       "  </thead>\n",
       "  <tbody>\n",
       "    <tr>\n",
       "      <th>0</th>\n",
       "      <td>0.124669</td>\n",
       "      <td>0.004348</td>\n",
       "      <td>0.014300</td>\n",
       "      <td>0.003515</td>\n",
       "      <td>True</td>\n",
       "      <td>48</td>\n",
       "      <td>sqrt</td>\n",
       "      <td>1</td>\n",
       "      <td>5</td>\n",
       "      <td>113</td>\n",
       "      <td>{'bootstrap': True, 'max_depth': 48, 'max_feat...</td>\n",
       "      <td>0.505587</td>\n",
       "      <td>0.525874</td>\n",
       "      <td>0.528671</td>\n",
       "      <td>0.520044</td>\n",
       "      <td>0.010287</td>\n",
       "      <td>98</td>\n",
       "    </tr>\n",
       "    <tr>\n",
       "      <th>1</th>\n",
       "      <td>0.076461</td>\n",
       "      <td>0.007096</td>\n",
       "      <td>0.006389</td>\n",
       "      <td>0.009035</td>\n",
       "      <td>False</td>\n",
       "      <td>20</td>\n",
       "      <td>sqrt</td>\n",
       "      <td>19</td>\n",
       "      <td>6</td>\n",
       "      <td>97</td>\n",
       "      <td>{'bootstrap': False, 'max_depth': 20, 'max_fea...</td>\n",
       "      <td>0.536313</td>\n",
       "      <td>0.530070</td>\n",
       "      <td>0.555245</td>\n",
       "      <td>0.540543</td>\n",
       "      <td>0.010704</td>\n",
       "      <td>21</td>\n",
       "    </tr>\n",
       "    <tr>\n",
       "      <th>2</th>\n",
       "      <td>0.049598</td>\n",
       "      <td>0.001505</td>\n",
       "      <td>0.001908</td>\n",
       "      <td>0.002217</td>\n",
       "      <td>True</td>\n",
       "      <td>25</td>\n",
       "      <td>auto</td>\n",
       "      <td>13</td>\n",
       "      <td>3</td>\n",
       "      <td>49</td>\n",
       "      <td>{'bootstrap': True, 'max_depth': 25, 'max_feat...</td>\n",
       "      <td>0.539106</td>\n",
       "      <td>0.528671</td>\n",
       "      <td>0.539860</td>\n",
       "      <td>0.535879</td>\n",
       "      <td>0.005106</td>\n",
       "      <td>67</td>\n",
       "    </tr>\n",
       "    <tr>\n",
       "      <th>3</th>\n",
       "      <td>0.030701</td>\n",
       "      <td>0.003570</td>\n",
       "      <td>0.001077</td>\n",
       "      <td>0.001524</td>\n",
       "      <td>False</td>\n",
       "      <td>47</td>\n",
       "      <td>auto</td>\n",
       "      <td>18</td>\n",
       "      <td>7</td>\n",
       "      <td>35</td>\n",
       "      <td>{'bootstrap': False, 'max_depth': 47, 'max_fea...</td>\n",
       "      <td>0.537709</td>\n",
       "      <td>0.534266</td>\n",
       "      <td>0.544056</td>\n",
       "      <td>0.538677</td>\n",
       "      <td>0.004055</td>\n",
       "      <td>38</td>\n",
       "    </tr>\n",
       "    <tr>\n",
       "      <th>4</th>\n",
       "      <td>0.073216</td>\n",
       "      <td>0.007707</td>\n",
       "      <td>0.004865</td>\n",
       "      <td>0.006880</td>\n",
       "      <td>False</td>\n",
       "      <td>9</td>\n",
       "      <td>sqrt</td>\n",
       "      <td>17</td>\n",
       "      <td>7</td>\n",
       "      <td>89</td>\n",
       "      <td>{'bootstrap': False, 'max_depth': 9, 'max_feat...</td>\n",
       "      <td>0.537709</td>\n",
       "      <td>0.530070</td>\n",
       "      <td>0.545455</td>\n",
       "      <td>0.537745</td>\n",
       "      <td>0.006281</td>\n",
       "      <td>47</td>\n",
       "    </tr>\n",
       "    <tr>\n",
       "      <th>...</th>\n",
       "      <td>...</td>\n",
       "      <td>...</td>\n",
       "      <td>...</td>\n",
       "      <td>...</td>\n",
       "      <td>...</td>\n",
       "      <td>...</td>\n",
       "      <td>...</td>\n",
       "      <td>...</td>\n",
       "      <td>...</td>\n",
       "      <td>...</td>\n",
       "      <td>...</td>\n",
       "      <td>...</td>\n",
       "      <td>...</td>\n",
       "      <td>...</td>\n",
       "      <td>...</td>\n",
       "      <td>...</td>\n",
       "      <td>...</td>\n",
       "    </tr>\n",
       "    <tr>\n",
       "      <th>95</th>\n",
       "      <td>0.081369</td>\n",
       "      <td>0.001225</td>\n",
       "      <td>0.018938</td>\n",
       "      <td>0.000752</td>\n",
       "      <td>True</td>\n",
       "      <td>34</td>\n",
       "      <td>auto</td>\n",
       "      <td>1</td>\n",
       "      <td>11</td>\n",
       "      <td>90</td>\n",
       "      <td>{'bootstrap': True, 'max_depth': 34, 'max_feat...</td>\n",
       "      <td>0.519553</td>\n",
       "      <td>0.524476</td>\n",
       "      <td>0.534266</td>\n",
       "      <td>0.526098</td>\n",
       "      <td>0.006115</td>\n",
       "      <td>96</td>\n",
       "    </tr>\n",
       "    <tr>\n",
       "      <th>96</th>\n",
       "      <td>0.144174</td>\n",
       "      <td>0.006426</td>\n",
       "      <td>0.010908</td>\n",
       "      <td>0.007733</td>\n",
       "      <td>True</td>\n",
       "      <td>9</td>\n",
       "      <td>sqrt</td>\n",
       "      <td>11</td>\n",
       "      <td>18</td>\n",
       "      <td>165</td>\n",
       "      <td>{'bootstrap': True, 'max_depth': 9, 'max_featu...</td>\n",
       "      <td>0.534916</td>\n",
       "      <td>0.532867</td>\n",
       "      <td>0.546853</td>\n",
       "      <td>0.538212</td>\n",
       "      <td>0.006167</td>\n",
       "      <td>41</td>\n",
       "    </tr>\n",
       "    <tr>\n",
       "      <th>97</th>\n",
       "      <td>0.011202</td>\n",
       "      <td>0.007922</td>\n",
       "      <td>0.000000</td>\n",
       "      <td>0.000000</td>\n",
       "      <td>True</td>\n",
       "      <td>2</td>\n",
       "      <td>auto</td>\n",
       "      <td>6</td>\n",
       "      <td>4</td>\n",
       "      <td>13</td>\n",
       "      <td>{'bootstrap': True, 'max_depth': 2, 'max_featu...</td>\n",
       "      <td>0.537709</td>\n",
       "      <td>0.541259</td>\n",
       "      <td>0.531469</td>\n",
       "      <td>0.536812</td>\n",
       "      <td>0.004047</td>\n",
       "      <td>60</td>\n",
       "    </tr>\n",
       "    <tr>\n",
       "      <th>98</th>\n",
       "      <td>0.139625</td>\n",
       "      <td>0.009011</td>\n",
       "      <td>0.010173</td>\n",
       "      <td>0.008244</td>\n",
       "      <td>True</td>\n",
       "      <td>47</td>\n",
       "      <td>sqrt</td>\n",
       "      <td>12</td>\n",
       "      <td>8</td>\n",
       "      <td>158</td>\n",
       "      <td>{'bootstrap': True, 'max_depth': 47, 'max_feat...</td>\n",
       "      <td>0.532123</td>\n",
       "      <td>0.525874</td>\n",
       "      <td>0.552448</td>\n",
       "      <td>0.536815</td>\n",
       "      <td>0.011345</td>\n",
       "      <td>57</td>\n",
       "    </tr>\n",
       "    <tr>\n",
       "      <th>99</th>\n",
       "      <td>0.107564</td>\n",
       "      <td>0.007173</td>\n",
       "      <td>0.015071</td>\n",
       "      <td>0.000211</td>\n",
       "      <td>True</td>\n",
       "      <td>29</td>\n",
       "      <td>log2</td>\n",
       "      <td>3</td>\n",
       "      <td>8</td>\n",
       "      <td>111</td>\n",
       "      <td>{'bootstrap': True, 'max_depth': 29, 'max_feat...</td>\n",
       "      <td>0.537709</td>\n",
       "      <td>0.530070</td>\n",
       "      <td>0.537063</td>\n",
       "      <td>0.534947</td>\n",
       "      <td>0.003459</td>\n",
       "      <td>70</td>\n",
       "    </tr>\n",
       "  </tbody>\n",
       "</table>\n",
       "<p>100 rows × 17 columns</p>\n",
       "</div>"
      ],
      "text/plain": [
       "    mean_fit_time  std_fit_time  mean_score_time  std_score_time  \\\n",
       "0        0.124669      0.004348         0.014300        0.003515   \n",
       "1        0.076461      0.007096         0.006389        0.009035   \n",
       "2        0.049598      0.001505         0.001908        0.002217   \n",
       "3        0.030701      0.003570         0.001077        0.001524   \n",
       "4        0.073216      0.007707         0.004865        0.006880   \n",
       "..            ...           ...              ...             ...   \n",
       "95       0.081369      0.001225         0.018938        0.000752   \n",
       "96       0.144174      0.006426         0.010908        0.007733   \n",
       "97       0.011202      0.007922         0.000000        0.000000   \n",
       "98       0.139625      0.009011         0.010173        0.008244   \n",
       "99       0.107564      0.007173         0.015071        0.000211   \n",
       "\n",
       "   param_bootstrap param_max_depth param_max_features param_min_samples_leaf  \\\n",
       "0             True              48               sqrt                      1   \n",
       "1            False              20               sqrt                     19   \n",
       "2             True              25               auto                     13   \n",
       "3            False              47               auto                     18   \n",
       "4            False               9               sqrt                     17   \n",
       "..             ...             ...                ...                    ...   \n",
       "95            True              34               auto                      1   \n",
       "96            True               9               sqrt                     11   \n",
       "97            True               2               auto                      6   \n",
       "98            True              47               sqrt                     12   \n",
       "99            True              29               log2                      3   \n",
       "\n",
       "   param_min_samples_split param_n_estimators  \\\n",
       "0                        5                113   \n",
       "1                        6                 97   \n",
       "2                        3                 49   \n",
       "3                        7                 35   \n",
       "4                        7                 89   \n",
       "..                     ...                ...   \n",
       "95                      11                 90   \n",
       "96                      18                165   \n",
       "97                       4                 13   \n",
       "98                       8                158   \n",
       "99                       8                111   \n",
       "\n",
       "                                               params  split0_test_score  \\\n",
       "0   {'bootstrap': True, 'max_depth': 48, 'max_feat...           0.505587   \n",
       "1   {'bootstrap': False, 'max_depth': 20, 'max_fea...           0.536313   \n",
       "2   {'bootstrap': True, 'max_depth': 25, 'max_feat...           0.539106   \n",
       "3   {'bootstrap': False, 'max_depth': 47, 'max_fea...           0.537709   \n",
       "4   {'bootstrap': False, 'max_depth': 9, 'max_feat...           0.537709   \n",
       "..                                                ...                ...   \n",
       "95  {'bootstrap': True, 'max_depth': 34, 'max_feat...           0.519553   \n",
       "96  {'bootstrap': True, 'max_depth': 9, 'max_featu...           0.534916   \n",
       "97  {'bootstrap': True, 'max_depth': 2, 'max_featu...           0.537709   \n",
       "98  {'bootstrap': True, 'max_depth': 47, 'max_feat...           0.532123   \n",
       "99  {'bootstrap': True, 'max_depth': 29, 'max_feat...           0.537709   \n",
       "\n",
       "    split1_test_score  split2_test_score  mean_test_score  std_test_score  \\\n",
       "0            0.525874           0.528671         0.520044        0.010287   \n",
       "1            0.530070           0.555245         0.540543        0.010704   \n",
       "2            0.528671           0.539860         0.535879        0.005106   \n",
       "3            0.534266           0.544056         0.538677        0.004055   \n",
       "4            0.530070           0.545455         0.537745        0.006281   \n",
       "..                ...                ...              ...             ...   \n",
       "95           0.524476           0.534266         0.526098        0.006115   \n",
       "96           0.532867           0.546853         0.538212        0.006167   \n",
       "97           0.541259           0.531469         0.536812        0.004047   \n",
       "98           0.525874           0.552448         0.536815        0.011345   \n",
       "99           0.530070           0.537063         0.534947        0.003459   \n",
       "\n",
       "    rank_test_score  \n",
       "0                98  \n",
       "1                21  \n",
       "2                67  \n",
       "3                38  \n",
       "4                47  \n",
       "..              ...  \n",
       "95               96  \n",
       "96               41  \n",
       "97               60  \n",
       "98               57  \n",
       "99               70  \n",
       "\n",
       "[100 rows x 17 columns]"
      ]
     },
     "execution_count": 32,
     "metadata": {},
     "output_type": "execute_result"
    }
   ],
   "source": [
    "print(\"Mejores hiperparámetros: \"+str(model.best_params_))\n",
    "print(\"Mejor Score: \"+str(model.best_score_)+'\\n')\n",
    "\n",
    "scores = pd.DataFrame(model.cv_results_)\n",
    "scores"
   ]
  }
 ],
 "metadata": {
  "kernelspec": {
   "display_name": "venv",
   "language": "python",
   "name": "python3"
  },
  "language_info": {
   "codemirror_mode": {
    "name": "ipython",
    "version": 3
   },
   "file_extension": ".py",
   "mimetype": "text/x-python",
   "name": "python",
   "nbconvert_exporter": "python",
   "pygments_lexer": "ipython3",
   "version": "3.8.0"
  }
 },
 "nbformat": 4,
 "nbformat_minor": 2
}
